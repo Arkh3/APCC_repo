{
 "cells": [
  {
   "cell_type": "code",
   "execution_count": 1,
   "id": "posted-toner",
   "metadata": {},
   "outputs": [],
   "source": [
    "import cirq\n",
    "import random\n",
    "import matplotlib.pyplot as plt\n",
    "import numpy as np"
   ]
  },
  {
   "cell_type": "code",
   "execution_count": 14,
   "id": "enhanced-employer",
   "metadata": {},
   "outputs": [],
   "source": [
    "def make_superdense_coding_circuit(msg):\n",
    "    \n",
    "    circuit = cirq.Circuit()\n",
    "\n",
    "    a = cirq.NamedQubit(\"A\")\n",
    "    b = cirq.NamedQubit(\"B\")\n",
    "\n",
    "    # Create a Bell state shared between Alice and Bob.\n",
    "    circuit.append([cirq.H(a), cirq.CNOT(a, b)])\n",
    "    \n",
    "    if msg == \"00\":\n",
    "        None\n",
    "    elif msg == \"01\":\n",
    "        circuit.append([cirq.X(a)])\n",
    "    elif msg == \"10\":\n",
    "        circuit.append([cirq.Z(a)])\n",
    "    elif msg == \"11\":\n",
    "        circuit.append([cirq.X(a), cirq.Z(a)])\n",
    "    else:\n",
    "        print(\"Invalid Message: Sending '00'\")\n",
    "    \n",
    "    circuit.append([cirq.CNOT(a, b), cirq.H(a), cirq.measure(a, b)])\n",
    "\n",
    "    return circuit"
   ]
  },
  {
   "cell_type": "code",
   "execution_count": 46,
   "id": "postal-success",
   "metadata": {},
   "outputs": [],
   "source": [
    "def prueba(msg):\n",
    "    circuit1 = make_superdense_coding_circuit(message)\n",
    "    print(\"Teleportation circuit:\\n\")\n",
    "    print(circuit1)\n",
    "    sim = cirq.Simulator()\n",
    "    result = sim.run(circuit1, repetitions=1000) #.simulate(circuit1))\n",
    "    print(\"Results:\")\n",
    "    print(result.histogram(key=\"A,B\"))"
   ]
  },
  {
   "cell_type": "markdown",
   "id": "varied-karma",
   "metadata": {},
   "source": [
    "-------------------------------\n",
    "# Prueba 1:\n"
   ]
  },
  {
   "cell_type": "code",
   "execution_count": 47,
   "id": "challenging-stephen",
   "metadata": {},
   "outputs": [
    {
     "name": "stdout",
     "output_type": "stream",
     "text": [
      "Teleportation circuit:\n",
      "\n",
      "A: ───H───@───X───Z───@───H───M───\n",
      "          │           │       │\n",
      "B: ───────X───────────X───────M───\n",
      "Results:\n",
      "Counter({3: 1000})\n"
     ]
    }
   ],
   "source": [
    "message = \"11\"\n",
    "prueba(message)"
   ]
  },
  {
   "cell_type": "markdown",
   "id": "liberal-trading",
   "metadata": {},
   "source": [
    "Podemos observar como en las 1000 ejecuciones ha salido el valor 3 (11 en binario), siendo este valor igual al mensaje que queríamos traducir."
   ]
  },
  {
   "cell_type": "code",
   "execution_count": 48,
   "id": "collaborative-danish",
   "metadata": {},
   "outputs": [
    {
     "name": "stdout",
     "output_type": "stream",
     "text": [
      "Teleportation circuit:\n",
      "\n",
      "A: ───H───@───Z───@───H───M───\n",
      "          │       │       │\n",
      "B: ───────X───────X───────M───\n",
      "Results:\n",
      "Counter({2: 1000})\n"
     ]
    }
   ],
   "source": [
    "message = \"10\"\n",
    "prueba(message)"
   ]
  },
  {
   "cell_type": "code",
   "execution_count": 49,
   "id": "higher-jacob",
   "metadata": {},
   "outputs": [
    {
     "name": "stdout",
     "output_type": "stream",
     "text": [
      "Teleportation circuit:\n",
      "\n",
      "A: ───H───@───X───@───H───M───\n",
      "          │       │       │\n",
      "B: ───────X───────X───────M───\n",
      "Results:\n",
      "Counter({1: 1000})\n"
     ]
    }
   ],
   "source": [
    "message = \"01\"\n",
    "prueba(message)"
   ]
  },
  {
   "cell_type": "code",
   "execution_count": 50,
   "id": "general-lucas",
   "metadata": {},
   "outputs": [
    {
     "name": "stdout",
     "output_type": "stream",
     "text": [
      "Teleportation circuit:\n",
      "\n",
      "A: ───H───@───@───H───M───\n",
      "          │   │       │\n",
      "B: ───────X───X───────M───\n",
      "Results:\n",
      "Counter({0: 1000})\n"
     ]
    }
   ],
   "source": [
    "message = \"00\"\n",
    "prueba(message)"
   ]
  },
  {
   "cell_type": "code",
   "execution_count": null,
   "id": "rural-slovakia",
   "metadata": {},
   "outputs": [],
   "source": []
  }
 ],
 "metadata": {
  "kernelspec": {
   "display_name": "Python 3",
   "language": "python",
   "name": "python3"
  },
  "language_info": {
   "codemirror_mode": {
    "name": "ipython",
    "version": 3
   },
   "file_extension": ".py",
   "mimetype": "text/x-python",
   "name": "python",
   "nbconvert_exporter": "python",
   "pygments_lexer": "ipython3",
   "version": "3.8.5"
  }
 },
 "nbformat": 4,
 "nbformat_minor": 5
}
