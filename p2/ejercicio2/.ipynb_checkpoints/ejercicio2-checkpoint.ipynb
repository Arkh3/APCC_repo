{
 "cells": [
  {
   "cell_type": "code",
   "execution_count": 1,
   "metadata": {},
   "outputs": [],
   "source": [
    "import cirq\n",
    "import random\n",
    "import matplotlib.pyplot as plt\n",
    "import numpy as np"
   ]
  },
  {
   "cell_type": "code",
   "execution_count": 14,
   "metadata": {},
   "outputs": [],
   "source": [
    "# msg contiene los dos bits que queremos transmitir (00,01,10,11)\n",
    "\n",
    "def make_superdense_coding_circuit(msg):\n",
    "    \n",
    "    circuit = cirq.Circuit()\n",
    "\n",
    "    # Necesitamos 2 cubits para realizar un estado de Bell\n",
    "    \n",
    "    a = cirq.NamedQubit(\"A\")\n",
    "    b = cirq.NamedQubit(\"B\")\n",
    "\n",
    "    # Creamos un estado de Bell entre los dos cubits\n",
    "    \n",
    "    circuit.append([cirq.H(a), cirq.CNOT(a, b)])\n",
    "    \n",
    "    # Según el mensaje que querramos enviar, \n",
    "    # aplicamos unas de las siguientes puertas\n",
    "    \n",
    "    if msg == \"00\":\n",
    "        None\n",
    "    elif msg == \"01\":\n",
    "        circuit.append([cirq.X(a)])\n",
    "    elif msg == \"10\":\n",
    "        circuit.append([cirq.Z(a)])\n",
    "    elif msg == \"11\":\n",
    "        circuit.append([cirq.X(a), cirq.Z(a)])\n",
    "    else:\n",
    "        print(\"Invalid Message: Sending '00'\")\n",
    "    \n",
    "    # A Bob le llegaría el cubit que le ha mandado Alice \n",
    "    # y este tiene que aplicar una CNOT sobre el par EPR y\n",
    "    # una Hadamard sobre el cubit recibido.\n",
    "    \n",
    "    circuit.append([cirq.CNOT(a, b), cirq.H(a), cirq.measure(a, b)])\n",
    "\n",
    "    return circuit"
   ]
  },
  {
   "cell_type": "code",
   "execution_count": 46,
   "metadata": {},
   "outputs": [],
   "source": [
    "# Esta función crea el circuito de codificación superdensa\n",
    "# y lo ejecuta 1000 veces para ver si todas ellas devuelve \n",
    "# el mismo resultado.\n",
    "\n",
    "def prueba(msg):\n",
    "    \n",
    "    circuit1 = make_superdense_coding_circuit(message)\n",
    "    \n",
    "    print(\"Teleportation circuit:\\n\")\n",
    "    print(circuit1)\n",
    "    \n",
    "    sim = cirq.Simulator()\n",
    "    \n",
    "    result = sim.run(circuit1, repetitions=1000) #.simulate(circuit1))\n",
    "    \n",
    "    print(\"Results:\")\n",
    "    print(result.histogram(key=\"A,B\"))"
   ]
  },
  {
   "cell_type": "markdown",
   "metadata": {},
   "source": [
    "-------------------------------\n",
    "# Pruebas:\n"
   ]
  },
  {
   "cell_type": "code",
   "execution_count": 47,
   "metadata": {},
   "outputs": [
    {
     "name": "stdout",
     "output_type": "stream",
     "text": [
      "Teleportation circuit:\n",
      "\n",
      "A: ───H───@───X───Z───@───H───M───\n",
      "          │           │       │\n",
      "B: ───────X───────────X───────M───\n",
      "Results:\n",
      "Counter({3: 1000})\n"
     ]
    }
   ],
   "source": [
    "message = \"11\"\n",
    "prueba(message)"
   ]
  },
  {
   "cell_type": "code",
   "execution_count": 48,
   "metadata": {},
   "outputs": [
    {
     "name": "stdout",
     "output_type": "stream",
     "text": [
      "Teleportation circuit:\n",
      "\n",
      "A: ───H───@───Z───@───H───M───\n",
      "          │       │       │\n",
      "B: ───────X───────X───────M───\n",
      "Results:\n",
      "Counter({2: 1000})\n"
     ]
    }
   ],
   "source": [
    "message = \"10\"\n",
    "prueba(message)"
   ]
  },
  {
   "cell_type": "code",
   "execution_count": 49,
   "metadata": {},
   "outputs": [
    {
     "name": "stdout",
     "output_type": "stream",
     "text": [
      "Teleportation circuit:\n",
      "\n",
      "A: ───H───@───X───@───H───M───\n",
      "          │       │       │\n",
      "B: ───────X───────X───────M───\n",
      "Results:\n",
      "Counter({1: 1000})\n"
     ]
    }
   ],
   "source": [
    "message = \"01\"\n",
    "prueba(message)"
   ]
  },
  {
   "cell_type": "code",
   "execution_count": 50,
   "metadata": {},
   "outputs": [
    {
     "name": "stdout",
     "output_type": "stream",
     "text": [
      "Teleportation circuit:\n",
      "\n",
      "A: ───H───@───@───H───M───\n",
      "          │   │       │\n",
      "B: ───────X───X───────M───\n",
      "Results:\n",
      "Counter({0: 1000})\n"
     ]
    }
   ],
   "source": [
    "message = \"00\"\n",
    "prueba(message)"
   ]
  },
  {
   "cell_type": "markdown",
   "metadata": {},
   "source": [
    "### Comentarios\n",
    "\n",
    "En los cuatros mensajes que podemos mandar (00,01,10,11) observamos que en las 1000 ejecuciones realizadas para cada uno, Bob siempre podía descifrar el mensaje original a través del cubit mandado por Álice viendo así que la codificación superdensa funciona de verdad."
   ]
  },
  {
   "cell_type": "code",
   "execution_count": null,
   "metadata": {},
   "outputs": [],
   "source": []
  }
 ],
 "metadata": {
  "kernelspec": {
   "display_name": "Python 3",
   "language": "python",
   "name": "python3"
  },
  "language_info": {
   "codemirror_mode": {
    "name": "ipython",
    "version": 3
   },
   "file_extension": ".py",
   "mimetype": "text/x-python",
   "name": "python",
   "nbconvert_exporter": "python",
   "pygments_lexer": "ipython3",
   "version": "3.8.5"
  }
 },
 "nbformat": 4,
 "nbformat_minor": 5
}
