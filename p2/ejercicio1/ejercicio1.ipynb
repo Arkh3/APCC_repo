{
 "cells": [
  {
   "cell_type": "code",
   "execution_count": 11,
   "id": "imported-writing",
   "metadata": {},
   "outputs": [],
   "source": [
    "import cirq\n",
    "import random\n",
    "import matplotlib.pyplot as plt\n",
    "import numpy as np"
   ]
  },
  {
   "cell_type": "code",
   "execution_count": 12,
   "id": "closing-notion",
   "metadata": {},
   "outputs": [],
   "source": [
    "def make_quantum_teleportation_circuit(gate):\n",
    "    \"\"\"Returns a circuit for quantum teleportation.\n",
    "\n",
    "    This circuit 'teleports' a random qubit state prepared by\n",
    "    the input gate from Alice to Bob.\n",
    "    \"\"\"\n",
    "    circuit = cirq.Circuit()\n",
    "\n",
    "    # Get the three qubits involved in the teleportation protocol.\n",
    "    msg = cirq.NamedQubit(\"Message\")\n",
    "    alice = cirq.NamedQubit(\"Alice\")\n",
    "    bob = cirq.NamedQubit(\"Bob\")\n",
    "\n",
    "    # The input gate prepares the message to send.\n",
    "    circuit.append(gate(msg))\n",
    "\n",
    "    # Create a Bell state shared between Alice and Bob.\n",
    "    circuit.append([cirq.H(alice), cirq.CNOT(alice, bob)])\n",
    "\n",
    "    # Bell measurement of the Message and Alice's entangled qubit.\n",
    "    circuit.append([cirq.CNOT(msg, alice), cirq.H(msg), cirq.measure(msg, alice)])\n",
    "\n",
    "    # Uses the two classical bits from the Bell measurement to recover the\n",
    "    # original quantum message on Bob's entangled qubit.\n",
    "    circuit.append([cirq.CNOT(alice, bob), cirq.CZ(msg, bob)])\n",
    "\n",
    "    return circuit"
   ]
  },
  {
   "cell_type": "markdown",
   "id": "coral-kingdom",
   "metadata": {},
   "source": [
    "-------------------------------\n",
    "# Prueba 1:\n",
    "\n",
    "(puerta: cirq.X ** 0.25)"
   ]
  },
  {
   "cell_type": "code",
   "execution_count": 18,
   "id": "close-tucson",
   "metadata": {},
   "outputs": [
    {
     "name": "stdout",
     "output_type": "stream",
     "text": [
      "Teleportation circuit:\n",
      "\n",
      "Alice: ─────H────────@───X───────M───@───────\n",
      "                     │   │       │   │\n",
      "Bob: ────────────────X───┼───────┼───X───@───\n",
      "                         │       │       │\n",
      "Message: ───X^0.25───────@───H───M───────@───\n"
     ]
    }
   ],
   "source": [
    "\"\"\"Visualize the teleportation circuit.\"\"\"\n",
    "# Gate to put the message qubit in some state to send.\n",
    "gate = cirq.X ** 0.25\n",
    "\n",
    "# Create the teleportation circuit.\n",
    "circuit1 = make_quantum_teleportation_circuit(gate)\n",
    "print(\"Teleportation circuit:\\n\")\n",
    "print(circuit1)\n"
   ]
  },
  {
   "cell_type": "code",
   "execution_count": 22,
   "id": "bacterial-ballot",
   "metadata": {},
   "outputs": [
    {
     "name": "stdout",
     "output_type": "stream",
     "text": [
      "Bloch vector of message qubit before teleportation:\n",
      "[ 0.    -0.707  0.707]\n"
     ]
    }
   ],
   "source": [
    "\"\"\"Display the Bloch vector of the message qubit.\"\"\"\n",
    "message = cirq.Circuit(gate.on(cirq.NamedQubit(\"Message\"))).final_state_vector()\n",
    "message_bloch_vector = cirq.bloch_vector_from_state_vector(message, index=0)\n",
    "print(\"Bloch vector of message qubit before teleportation:\")\n",
    "print(np.round(message_bloch_vector, 3))\n"
   ]
  },
  {
   "cell_type": "code",
   "execution_count": 23,
   "id": "graphic-example",
   "metadata": {},
   "outputs": [
    {
     "name": "stdout",
     "output_type": "stream",
     "text": [
      "Bloch vector of Bob's qubit after teleportation:\n",
      "[ 0.    -0.707  0.707]\n",
      "Bloch vector of message qubit after teleportation:\n",
      "[0. 0. 1.]\n"
     ]
    }
   ],
   "source": [
    "\"\"\"Simulate the teleportation circuit and get the final state of Bob's qubit.\"\"\"\n",
    "# Get a simulator.\n",
    "sim = cirq.Simulator()\n",
    "\n",
    "# Simulate the teleportation circuit.\n",
    "result = sim.simulate(circuit1)\n",
    "\n",
    "# Get the Bloch vector of Bob's qubit.\n",
    "bobs_bloch_vector = cirq.bloch_vector_from_state_vector(result.final_state_vector, index=1)\n",
    "message_bloch_vector2 = cirq.bloch_vector_from_state_vector(result.final_state_vector, index=0)\n",
    "print(\"Bloch vector of Bob's qubit after teleportation:\")\n",
    "print(np.round(bobs_bloch_vector, 3))\n",
    "print(\"Bloch vector of message qubit after teleportation:\")\n",
    "print(np.round(message_bloch_vector2, 3))\n",
    "\n",
    "# Verify they are the same state!\n",
    "np.testing.assert_allclose(bobs_bloch_vector, message_bloch_vector, atol=1e-7)\n"
   ]
  },
  {
   "cell_type": "markdown",
   "id": "restricted-ordinance",
   "metadata": {},
   "source": [
    "### Comentarios: \n",
    "\n",
    "Como podemos ver el estado del cubit Message (que es el que quiere mandar Alice a Bob) antes de realizar la teleportación cuántica es igual al estado del cubit de Bob despues de realizarla.\n",
    "\n",
    "Tambien podemos apreciar que tras hacer el protocolo, Alice pierde el estado de su cubit, es decir tras la teleportación cuántica sigue quedando solo un cubit con ese estado (no podemos clonar el cubit) pero esta vez es Bob el que se ha quedado el cubit habiendo \"teletransportado\" el estado del cubit de Alice al cubit de Bob."
   ]
  },
  {
   "cell_type": "markdown",
   "id": "religious-university",
   "metadata": {},
   "source": [
    "-------------------------------\n",
    "# Prueba 2:\n",
    "\n",
    "Vamos a hacer otra prueba aplicandole otra puerta al bit que queremos \"teletransportar\" para comprobar a ver si se sigue cumpliendo.\n",
    "\n",
    "(puerta: ______________)"
   ]
  },
  {
   "cell_type": "code",
   "execution_count": 26,
   "id": "foreign-jurisdiction",
   "metadata": {},
   "outputs": [
    {
     "name": "stdout",
     "output_type": "stream",
     "text": [
      "Teleportation circuit:\n",
      "\n",
      "Alice: ─────H───@───X───────M───@───────\n",
      "                │   │       │   │\n",
      "Bob: ───────────X───┼───────┼───X───@───\n",
      "                    │       │       │\n",
      "Message: ───H───────@───H───M───────@───\n"
     ]
    }
   ],
   "source": [
    "\"\"\"Visualize the teleportation circuit.\"\"\"\n",
    "# Gate to put the message qubit in some state to send.\n",
    "gate = cirq.H\n",
    "\n",
    "# Create the teleportation circuit.\n",
    "circuit1 = make_quantum_teleportation_circuit(gate)\n",
    "print(\"Teleportation circuit:\\n\")\n",
    "print(circuit1)\n"
   ]
  },
  {
   "cell_type": "code",
   "execution_count": 30,
   "id": "filled-viewer",
   "metadata": {},
   "outputs": [
    {
     "name": "stdout",
     "output_type": "stream",
     "text": [
      "Bloch vector of message qubit before teleportation:\n",
      "[1. 0. 0.]\n"
     ]
    }
   ],
   "source": [
    "\"\"\"Display the Bloch vector of the message qubit.\"\"\"\n",
    "message = cirq.Circuit(gate.on(cirq.NamedQubit(\"Message\"))).final_state_vector()\n",
    "message_bloch_vector = cirq.bloch_vector_from_state_vector(message, index=0)\n",
    "print(\"Bloch vector of message qubit before teleportation:\")\n",
    "print(np.round(message_bloch_vector, 3))\n"
   ]
  },
  {
   "cell_type": "code",
   "execution_count": 31,
   "id": "prime-snake",
   "metadata": {},
   "outputs": [
    {
     "name": "stdout",
     "output_type": "stream",
     "text": [
      "Bloch vector of Bob's qubit after teleportation:\n",
      "[1. 0. 0.]\n",
      "Bloch vector of message qubit after teleportation:\n",
      "[0. 0. 1.]\n"
     ]
    }
   ],
   "source": [
    "\"\"\"Simulate the teleportation circuit and get the final state of Bob's qubit.\"\"\"\n",
    "# Get a simulator.\n",
    "sim = cirq.Simulator()\n",
    "\n",
    "# Simulate the teleportation circuit.\n",
    "result = sim.simulate(circuit1)\n",
    "\n",
    "# Get the Bloch vector of Bob's qubit.\n",
    "bobs_bloch_vector = cirq.bloch_vector_from_state_vector(result.final_state_vector, index=1)\n",
    "message_bloch_vector2 = cirq.bloch_vector_from_state_vector(result.final_state_vector, index=0)\n",
    "print(\"Bloch vector of Bob's qubit after teleportation:\")\n",
    "print(np.round(bobs_bloch_vector, 3))\n",
    "print(\"Bloch vector of message qubit after teleportation:\")\n",
    "print(np.round(message_bloch_vector2, 3))\n",
    "\n",
    "# Verify they are the same state!\n",
    "np.testing.assert_allclose(bobs_bloch_vector, message_bloch_vector, atol=1e-7)\n"
   ]
  },
  {
   "cell_type": "markdown",
   "id": "statistical-november",
   "metadata": {},
   "source": [
    "### Comentarios: \n",
    "\n",
    "Como vemos aqui se sigue cumpliendo lo mismo de antes, el cubit de Bob se ha quedado con el estado del cubit message y el cubit message ha colapsado por la medida que hemos hecho en el protocolo (en este caso ha colapsado a 0) y ha perdido su estado."
   ]
  },
  {
   "cell_type": "code",
   "execution_count": null,
   "id": "fiscal-yukon",
   "metadata": {},
   "outputs": [],
   "source": []
  }
 ],
 "metadata": {
  "kernelspec": {
   "display_name": "Python 3",
   "language": "python",
   "name": "python3"
  },
  "language_info": {
   "codemirror_mode": {
    "name": "ipython",
    "version": 3
   },
   "file_extension": ".py",
   "mimetype": "text/x-python",
   "name": "python",
   "nbconvert_exporter": "python",
   "pygments_lexer": "ipython3",
   "version": "3.8.5"
  }
 },
 "nbformat": 4,
 "nbformat_minor": 5
}
