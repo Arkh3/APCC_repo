{
 "cells": [
  {
   "cell_type": "markdown",
   "id": "bacterial-bleeding",
   "metadata": {},
   "source": [
    "# Codificación superdensa en Qiskit."
   ]
  },
  {
   "cell_type": "markdown",
   "id": "packed-bride",
   "metadata": {},
   "source": [
    "## Parte 1: Simulación."
   ]
  },
  {
   "cell_type": "code",
   "execution_count": 1,
   "id": "swiss-divorce",
   "metadata": {},
   "outputs": [],
   "source": [
    "from qiskit import QuantumCircuit\n",
    "from qiskit import IBMQ, Aer, transpile, assemble\n",
    "from qiskit.visualization import plot_histogram"
   ]
  },
  {
   "cell_type": "code",
   "execution_count": 2,
   "id": "amended-public",
   "metadata": {},
   "outputs": [],
   "source": [
    "def crear_estado_bell(circuit, cubit_a, cubit_b):\n",
    "    circuit.barrier()\n",
    "    circuit.h(cubit_a)\n",
    "    circuit.cx(cubit_a,cubit_b)\n",
    "    \n",
    "def parte_de_alice(circuit, qubit, msg):\n",
    "    circuit.barrier()\n",
    "    \n",
    "    if msg == \"00\":\n",
    "        None\n",
    "    elif msg == \"10\":\n",
    "        circuit.x(qubit) \n",
    "    elif msg == \"01\":\n",
    "        circuit.z(qubit)\n",
    "    elif msg == \"11\":\n",
    "        circuit.z(qubit)\n",
    "        circuit.x(qubit)\n",
    "    else:\n",
    "        print(\"Invalid Message: Sending '00'\")\n",
    "\n",
    "def parte_de_bob(circuit, a, b):\n",
    "    circuit.barrier()\n",
    "    circuit.cx(a,b)\n",
    "    circuit.h(a)"
   ]
  },
  {
   "cell_type": "code",
   "execution_count": 3,
   "id": "closing-bleeding",
   "metadata": {},
   "outputs": [
    {
     "data": {
      "text/html": [
       "<pre style=\"word-wrap: normal;white-space: pre;background: #fff0;line-height: 1.1;font-family: &quot;Courier New&quot;,Courier,monospace\">         ░ ┌───┐      ░ ┌───┐ ░      ┌───┐ ░ ┌─┐   \n",
       "   q_0: ─░─┤ H ├──■───░─┤ X ├─░───■──┤ H ├─░─┤M├───\n",
       "         ░ └───┘┌─┴─┐ ░ └───┘ ░ ┌─┴─┐└───┘ ░ └╥┘┌─┐\n",
       "   q_1: ─░──────┤ X ├─░───────░─┤ X ├──────░──╫─┤M├\n",
       "         ░      └───┘ ░       ░ └───┘      ░  ║ └╥┘\n",
       "meas: 2/══════════════════════════════════════╩══╩═\n",
       "                                              0  1 </pre>"
      ],
      "text/plain": [
       "         ░ ┌───┐      ░ ┌───┐ ░      ┌───┐ ░ ┌─┐   \n",
       "   q_0: ─░─┤ H ├──■───░─┤ X ├─░───■──┤ H ├─░─┤M├───\n",
       "         ░ └───┘┌─┴─┐ ░ └───┘ ░ ┌─┴─┐└───┘ ░ └╥┘┌─┐\n",
       "   q_1: ─░──────┤ X ├─░───────░─┤ X ├──────░──╫─┤M├\n",
       "         ░      └───┘ ░       ░ └───┘      ░  ║ └╥┘\n",
       "meas: 2/══════════════════════════════════════╩══╩═\n",
       "                                              0  1 "
      ]
     },
     "execution_count": 3,
     "metadata": {},
     "output_type": "execute_result"
    }
   ],
   "source": [
    "qc = QuantumCircuit(2)\n",
    "\n",
    "# se crean los dos cubits que se mandarán a \n",
    "# Alice y a Bob respectivamente\n",
    "crear_estado_bell(qc, 0, 1)\n",
    "\n",
    "# tras crearlos, se enviarían a Bob y a Alice (en este código)\n",
    "# no hace falta\n",
    "\n",
    "# alice tiene un mensaje que quiere enviar y lo codifica\n",
    "# en su cubit (el cubit 0)\n",
    "message = \"10\"\n",
    "parte_de_alice(qc, 0, message)\n",
    "\n",
    "# alice envia el cubit 0 a bob\n",
    "\n",
    "# bob tiene que descifrar el mensaje con su cubit y con el cubit de alice\n",
    "parte_de_bob(qc, 0, 1)\n",
    "\n",
    "# bob mide los cubits para ver el mensaje de alice\n",
    "qc.measure_all()\n",
    "\n",
    "qc.draw()\n"
   ]
  },
  {
   "cell_type": "markdown",
   "id": "welcome-south",
   "metadata": {},
   "source": [
    "-------------------\n",
    "\n",
    "## Simulación con QSAM:"
   ]
  },
  {
   "cell_type": "code",
   "execution_count": 4,
   "id": "linear-independence",
   "metadata": {},
   "outputs": [
    {
     "name": "stdout",
     "output_type": "stream",
     "text": [
      "{'10': 1024}\n"
     ]
    },
    {
     "data": {
      "image/png": "[encoded data removed]",
      "text/plain": [
       "<Figure size 504x360 with 1 Axes>"
      ]
     },
     "execution_count": 4,
     "metadata": {},
     "output_type": "execute_result"
    }
   ],
   "source": [
    "qasm_sim = Aer.get_backend('qasm_simulator')\n",
    "qobj = assemble(qc)\n",
    "result = qasm_sim.run(qobj).result()\n",
    "counts = result.get_counts(qc)\n",
    "print(counts)\n",
    "plot_histogram(counts)"
   ]
  },
  {
   "cell_type": "markdown",
   "id": "upset-simple",
   "metadata": {},
   "source": [
    "### Comentarios:\n",
    "\n",
    "Podemos ver que la probabilidad de que Bob lea correctamente el mensaje original de Alice es de un 100% viendo que la codificación superdensa funciona."
   ]
  },
  {
   "cell_type": "code",
   "execution_count": 5,
   "id": "reduced-officer",
   "metadata": {},
   "outputs": [
    {
     "name": "stdout",
     "output_type": "stream",
     "text": [
      "{'11': 1024}\n"
     ]
    },
    {
     "data": {
      "image/png": "[encoded data removed]",
      "text/plain": [
       "<Figure size 504x360 with 1 Axes>"
      ]
     },
     "execution_count": 5,
     "metadata": {},
     "output_type": "execute_result"
    }
   ],
   "source": [
    "qc = QuantumCircuit(2)\n",
    "\n",
    "# se crean los dos cubits que se mandarán a \n",
    "# Alice y a Bob respectivamente\n",
    "crear_estado_bell(qc, 0, 1)\n",
    "\n",
    "# tras crearlos, se enviarían a Bob y a Alice (en este código)\n",
    "# no hace falta\n",
    "\n",
    "# alice tiene un mensaje que quiere enviar y lo codifica\n",
    "# en su cubit (el cubit 0)\n",
    "message = \"11\"\n",
    "parte_de_alice(qc, 0, message)\n",
    "\n",
    "# alice envia el cubit 0 a bob\n",
    "\n",
    "# bob tiene que descifrar el mensaje con su cubit y con el cubit de alice\n",
    "parte_de_bob(qc, 0, 1)\n",
    "\n",
    "# bob mide los cubits para ver el mensaje de alice\n",
    "qc.measure_all()\n",
    "\n",
    "qasm_sim = Aer.get_backend('qasm_simulator')\n",
    "qobj = assemble(qc)\n",
    "result = qasm_sim.run(qobj).result()\n",
    "counts = result.get_counts(qc)\n",
    "print(counts)\n",
    "plot_histogram(counts)"
   ]
  },
  {
   "cell_type": "markdown",
   "id": "adjusted-howard",
   "metadata": {},
   "source": [
    "### Comentarios:\n",
    "\n",
    "Si cambiamos el mensaje a '11' sigue siendo un 100% la probabilidad de obtener el mensaje mandado por Alice."
   ]
  },
  {
   "cell_type": "markdown",
   "id": "verbal-incentive",
   "metadata": {},
   "source": [
    "-------\n",
    "## Parte 2: Ejecución en backends reales:"
   ]
  },
  {
   "cell_type": "code",
   "execution_count": 6,
   "id": "otherwise-aerospace",
   "metadata": {},
   "outputs": [
    {
     "name": "stderr",
     "output_type": "stream",
     "text": [
      "configrc.store_credentials:WARNING:2021-03-28 22:21:24,734: Credentials already present. Set overwrite=True to overwrite.\n"
     ]
    }
   ],
   "source": [
    "import numpy as np\n",
    "from qiskit import IBMQ\n",
    "from qiskit.compiler import assemble, transpile\n",
    "IBMQ.save_account('f33574e4ee70dc79fa2cc13196842a585bd84475ea12349568c2c649874d3a9bec1c6b58c70de7d7406b83d41b26368d0fd6ec73671834b56911a6f0cbbb1c31')\n",
    "from qiskit import(\n",
    "  QuantumCircuit,\n",
    "  execute,\n",
    "  Aer)"
   ]
  },
  {
   "cell_type": "code",
   "execution_count": 7,
   "id": "emotional-utilization",
   "metadata": {},
   "outputs": [
    {
     "name": "stderr",
     "output_type": "stream",
     "text": [
      "/home/feynman/anaconda3/envs/qiskitEnv/lib/python3.8/site-packages/qiskit/providers/ibmq/ibmqfactory.py:192: UserWarning: Timestamps in IBMQ backend properties, jobs, and job results are all now in local time instead of UTC.\n",
      "  warnings.warn('Timestamps in IBMQ backend properties, jobs, and job results '\n"
     ]
    },
    {
     "name": "stdout",
     "output_type": "stream",
     "text": [
      "least busy backend:  ibmq_quito\n"
     ]
    }
   ],
   "source": [
    "from qiskit import IBMQ\n",
    "from qiskit.providers.ibmq import least_busy\n",
    "shots = 1024\n",
    "\n",
    "# Load local account information\n",
    "IBMQ.load_account()\n",
    "# Get the least busy backend\n",
    "provider = IBMQ.get_provider(hub='ibm-q')\n",
    "backend = least_busy(provider.backends(filters=lambda x: x.configuration().n_qubits >= 2 \n",
    "                                       and not x.configuration().simulator \n",
    "                                       and x.status().operational==True))\n",
    "print(\"least busy backend: \", backend)\n",
    "# Run our circuit\n",
    "t_qc = transpile(qc, backend, optimization_level=3)\n",
    "qobj = assemble(t_qc)\n",
    "job = backend.run(qobj)"
   ]
  },
  {
   "cell_type": "code",
   "execution_count": 8,
   "id": "excessive-margin",
   "metadata": {},
   "outputs": [
    {
     "name": "stdout",
     "output_type": "stream",
     "text": [
      "Job Status: job has successfully run\n"
     ]
    }
   ],
   "source": [
    "from qiskit.tools.monitor import job_monitor\n",
    "job_monitor(job)"
   ]
  },
  {
   "cell_type": "code",
   "execution_count": 9,
   "id": "intense-regression",
   "metadata": {},
   "outputs": [
    {
     "data": {
      "image/png": "[encoded data removed]",
      "text/plain": [
       "<Figure size 504x360 with 1 Axes>"
      ]
     },
     "execution_count": 9,
     "metadata": {},
     "output_type": "execute_result"
    }
   ],
   "source": [
    "result = job.result()\n",
    "plot_histogram(result.get_counts(qc))"
   ]
  },
  {
   "cell_type": "code",
   "execution_count": 10,
   "id": "straight-volunteer",
   "metadata": {},
   "outputs": [
    {
     "name": "stdout",
     "output_type": "stream",
     "text": [
      "Accuracy = 86.13%\n"
     ]
    }
   ],
   "source": [
    "correct_results = result.get_counts(qc)[message]\n",
    "accuracy = (correct_results/shots)*100\n",
    "print(f\"Accuracy = {accuracy:.2f}%\")"
   ]
  },
  {
   "cell_type": "markdown",
   "id": "occasional-calendar",
   "metadata": {},
   "source": [
    "### Comentarios:\n",
    "\n",
    "Como es de esperar, los ordenadores cuánticos reales tienen ruido y hay ciertas probabilidades de no obtener los resultados esperados. Pese a esto, podemos seguir observando en el histograma que tenemos las mayores probabilidades de conseguir descifrar el mensaje original (11) y que tiene una pecisión medianamente alta de un 86,13%."
   ]
  },
  {
   "attachments": {
    "circuit-kmtm3r78.png": {
     "image/png": "[encoded data removed]"
    }
   },
   "cell_type": "markdown",
   "id": "fabulous-region",
   "metadata": {},
   "source": [
    "### Circuito en el ordenador cuántico real:\n",
    "\n",
    "![circuit-kmtm3r78.png](attachment:circuit-kmtm3r78.png)"
   ]
  }
 ],
 "metadata": {
  "kernelspec": {
   "display_name": "Python 3",
   "language": "python",
   "name": "python3"
  },
  "language_info": {
   "codemirror_mode": {
    "name": "ipython",
    "version": 3
   },
   "file_extension": ".py",
   "mimetype": "text/x-python",
   "name": "python",
   "nbconvert_exporter": "python",
   "pygments_lexer": "ipython3",
   "version": "3.8.5"
  }
 },
 "nbformat": 4,
 "nbformat_minor": 5
}
