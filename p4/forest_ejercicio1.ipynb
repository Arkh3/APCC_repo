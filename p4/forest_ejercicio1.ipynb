{
 "cells": [
  {
   "cell_type": "code",
   "execution_count": 1,
   "id": "occupied-fence",
   "metadata": {
    "scrolled": true
   },
   "outputs": [],
   "source": [
    "from pyquil import Program, get_qc\n",
    "from pyquil.gates import *"
   ]
  },
  {
   "cell_type": "markdown",
   "id": "continent-screening",
   "metadata": {},
   "source": [
    "# ALGORITMO DE DEUTSCH EN FOREST\n",
    "\n",
    "Empezaremos probando el algoritmo de Deutsch.\n",
    "\n",
    "----\n",
    "\n",
    "## 1- Crearemos todos los oráculos posibles y los guardamos en un diccionario."
   ]
  },
  {
   "cell_type": "code",
   "execution_count": 2,
   "id": "digital-infrared",
   "metadata": {},
   "outputs": [],
   "source": [
    "oraculos = dict()"
   ]
  },
  {
   "cell_type": "code",
   "execution_count": 3,
   "id": "solar-association",
   "metadata": {},
   "outputs": [],
   "source": [
    "oraculo_constante0 = Program()"
   ]
  },
  {
   "cell_type": "code",
   "execution_count": 4,
   "id": "working-absence",
   "metadata": {},
   "outputs": [
    {
     "name": "stdout",
     "output_type": "stream",
     "text": [
      "X 1\n",
      "\n"
     ]
    }
   ],
   "source": [
    "oraculo_constante1 = Program()\n",
    "oraculo_constante1 += X(1)\n",
    "\n",
    "print(oraculo_constante1)"
   ]
  },
  {
   "cell_type": "code",
   "execution_count": 5,
   "id": "still-trade",
   "metadata": {},
   "outputs": [
    {
     "name": "stdout",
     "output_type": "stream",
     "text": [
      "CNOT 0 1\n",
      "\n"
     ]
    }
   ],
   "source": [
    "oraculo_balanceado0 = Program()\n",
    "oraculo_balanceado0 += CNOT(0,1)\n",
    "print(oraculo_balanceado0)"
   ]
  },
  {
   "cell_type": "code",
   "execution_count": 6,
   "id": "victorian-flight",
   "metadata": {},
   "outputs": [
    {
     "name": "stdout",
     "output_type": "stream",
     "text": [
      "CNOT 0 1\n",
      "X 1\n",
      "\n"
     ]
    }
   ],
   "source": [
    "oraculo_balanceado1 = Program()\n",
    "oraculo_balanceado1 += CNOT(0,1)\n",
    "oraculo_balanceado1 += X(1)\n",
    "\n",
    "print(oraculo_balanceado1)"
   ]
  },
  {
   "cell_type": "code",
   "execution_count": 7,
   "id": "artistic-terminal",
   "metadata": {},
   "outputs": [],
   "source": [
    "oraculos['oraculo_constante0'] = oraculo_constante0\n",
    "oraculos['oraculo_constante1'] = oraculo_constante1\n",
    "oraculos['oraculo_balanceado0'] = oraculo_balanceado0\n",
    "oraculos['oraculo_balanceado1'] = oraculo_balanceado1"
   ]
  },
  {
   "cell_type": "markdown",
   "id": "dirty-finish",
   "metadata": {},
   "source": [
    "## 2- Creamos el resto del circuito del algoritmo de Deutsch"
   ]
  },
  {
   "cell_type": "code",
   "execution_count": 8,
   "id": "tracked-amendment",
   "metadata": {},
   "outputs": [],
   "source": [
    "def algoritmoDeutsch(oraculo):\n",
    "    \n",
    "    qc = Program()\n",
    "    \n",
    "    qc += X(1)\n",
    "    qc += H(0)\n",
    "    qc += H(1)\n",
    "    qc += oraculos[oraculo]\n",
    "    qc += H(0)\n",
    "    #qc.measure([0,1],[0,1])\n",
    "    return qc"
   ]
  },
  {
   "cell_type": "markdown",
   "id": "charged-button",
   "metadata": {},
   "source": [
    "## 3- Simulamos los oráculos constantes \n",
    "\n",
    "Al ser funciones constantes, el cubit 0 debería colapsar en el estado |0> después de medirlo."
   ]
  },
  {
   "cell_type": "markdown",
   "id": "senior-workstation",
   "metadata": {},
   "source": [
    "## Oráculo constante 1:"
   ]
  },
  {
   "cell_type": "code",
   "execution_count": 9,
   "id": "exceptional-battlefield",
   "metadata": {
    "scrolled": false
   },
   "outputs": [
    {
     "name": "stdout",
     "output_type": "stream",
     "text": [
      "X 1\n",
      "H 0\n",
      "H 1\n",
      "H 0\n",
      "\n"
     ]
    }
   ],
   "source": [
    "qc = algoritmoDeutsch(\"oraculo_constante0\")\n",
    "print(qc)"
   ]
  },
  {
   "cell_type": "code",
   "execution_count": 10,
   "id": "hourly-threat",
   "metadata": {},
   "outputs": [
    {
     "name": "stdout",
     "output_type": "stream",
     "text": [
      "(0.7071067812+0j)|00> + (-0.7071067812+0j)|10>\n"
     ]
    }
   ],
   "source": [
    "from pyquil.api import WavefunctionSimulator\n",
    "wfn = WavefunctionSimulator().wavefunction(qc)\n",
    "print(wfn)"
   ]
  },
  {
   "cell_type": "markdown",
   "id": "broken-length",
   "metadata": {},
   "source": [
    "### Comentarios\n",
    "\n",
    "Al igual que en el oráculo anterior, este oráculo contiene una función constante por lo que queremos que el cubit 0 nos devuelva siempre un 0. En este caso sigue ocurriendo lo mismo y el algoritmo funciona."
   ]
  },
  {
   "cell_type": "code",
   "execution_count": 11,
   "id": "controlling-bangkok",
   "metadata": {},
   "outputs": [
    {
     "data": {
      "text/plain": [
       "[0, 1]"
      ]
     },
     "execution_count": 11,
     "metadata": {},
     "output_type": "execute_result"
    }
   ],
   "source": [
    "computer = get_qc('2q-qvm')\n",
    "computer.qubits() # comprobamos el numero de cubits que tiene la computadora cuántica"
   ]
  },
  {
   "cell_type": "code",
   "execution_count": 12,
   "id": "international-biodiversity",
   "metadata": {},
   "outputs": [
    {
     "data": {
      "text/plain": [
       "{0: array([0, 0, 0, 0, 0, 0, 0, 0, 0, 0, 0, 0, 0, 0, 0, 0, 0, 0, 0, 0]),\n",
       " 1: array([1, 0, 1, 0, 1, 1, 1, 0, 0, 0, 1, 1, 1, 0, 1, 0, 1, 1, 0, 0])}"
      ]
     },
     "execution_count": 12,
     "metadata": {},
     "output_type": "execute_result"
    }
   ],
   "source": [
    "bitstrings = computer.run_and_measure(qc, trials=20)\n",
    "bitstrings"
   ]
  },
  {
   "cell_type": "markdown",
   "id": "sacred-darkness",
   "metadata": {},
   "source": [
    "### Comentarios\n",
    "\n",
    "Podemos ver como los comentarios anteriores tenían razón y el cubit 0 siempre colapsa al estado 0 al medirlo, mientras que el cubit 1 tiene un 50% de probabilidades de ser tanto 0 como 1."
   ]
  },
  {
   "cell_type": "markdown",
   "id": "flying-salmon",
   "metadata": {},
   "source": [
    "--------------------------------\n",
    "\n",
    "## Oráculo constante 2:"
   ]
  },
  {
   "cell_type": "code",
   "execution_count": 13,
   "id": "bibliographic-agenda",
   "metadata": {
    "scrolled": true
   },
   "outputs": [
    {
     "name": "stdout",
     "output_type": "stream",
     "text": [
      "X 1\n",
      "H 0\n",
      "H 1\n",
      "X 1\n",
      "H 0\n",
      "\n"
     ]
    }
   ],
   "source": [
    "qc = algoritmoDeutsch(\"oraculo_constante1\")\n",
    "print(qc)"
   ]
  },
  {
   "cell_type": "code",
   "execution_count": 14,
   "id": "cosmetic-zimbabwe",
   "metadata": {},
   "outputs": [
    {
     "name": "stdout",
     "output_type": "stream",
     "text": [
      "(-0.7071067812+0j)|00> + (0.7071067812+0j)|10>\n"
     ]
    }
   ],
   "source": [
    "from pyquil.api import WavefunctionSimulator\n",
    "wfn = WavefunctionSimulator().wavefunction(qc)\n",
    "print(wfn)"
   ]
  },
  {
   "cell_type": "markdown",
   "id": "graphic-munich",
   "metadata": {},
   "source": [
    "### Comentarios\n",
    "\n",
    "Se puede apreciar como el cubit menos significativo siempre va ser 0, mientras que el segundo cubit tiene las mismas probabilidades de ser 0 o 1. Como es un oráculo con una función constante, obtenemos los resultados esperados (que el cubit 0 colapse siempre a 0)."
   ]
  },
  {
   "cell_type": "code",
   "execution_count": 15,
   "id": "administrative-innocent",
   "metadata": {},
   "outputs": [
    {
     "data": {
      "text/plain": [
       "[0, 1]"
      ]
     },
     "execution_count": 15,
     "metadata": {},
     "output_type": "execute_result"
    }
   ],
   "source": [
    "computer = get_qc('2q-qvm')\n",
    "computer.qubits()"
   ]
  },
  {
   "cell_type": "code",
   "execution_count": 16,
   "id": "complicated-sapphire",
   "metadata": {
    "scrolled": true
   },
   "outputs": [
    {
     "data": {
      "text/plain": [
       "{0: array([0, 0, 0, 0, 0, 0, 0, 0, 0, 0, 0, 0, 0, 0, 0, 0, 0, 0, 0, 0]),\n",
       " 1: array([1, 1, 0, 1, 1, 1, 0, 1, 0, 0, 0, 1, 0, 0, 0, 0, 1, 0, 0, 0])}"
      ]
     },
     "execution_count": 16,
     "metadata": {},
     "output_type": "execute_result"
    }
   ],
   "source": [
    "bitstrings = computer.run_and_measure(qc, trials=20)\n",
    "bitstrings"
   ]
  },
  {
   "cell_type": "markdown",
   "id": "catholic-illustration",
   "metadata": {},
   "source": [
    "### Comentarios\n",
    "\n",
    "Podemos ver como los comentarios anteriores tenían razón y el cubit 0 siempre colapsa al estado 0 al medirlo, mientras que el cubit 1 tiene un 50% de probabilidades de ser tanto 0 como 1."
   ]
  },
  {
   "cell_type": "markdown",
   "id": "western-footwear",
   "metadata": {},
   "source": [
    "--------------------------------"
   ]
  },
  {
   "cell_type": "markdown",
   "id": "expressed-phenomenon",
   "metadata": {},
   "source": [
    "## 4- Simulamos los oráculos balanceados \n",
    "\n",
    "Al ser funciones constantes, el cubit 0 debería colapsar en el estado |1> después de medirlo."
   ]
  },
  {
   "cell_type": "markdown",
   "id": "historic-hepatitis",
   "metadata": {},
   "source": [
    "## Oráculo balanceado 1:"
   ]
  },
  {
   "cell_type": "code",
   "execution_count": 17,
   "id": "voluntary-istanbul",
   "metadata": {
    "scrolled": false
   },
   "outputs": [
    {
     "name": "stdout",
     "output_type": "stream",
     "text": [
      "X 1\n",
      "H 0\n",
      "H 1\n",
      "CNOT 0 1\n",
      "H 0\n",
      "\n"
     ]
    }
   ],
   "source": [
    "qc = algoritmoDeutsch(\"oraculo_balanceado0\")\n",
    "print(qc)"
   ]
  },
  {
   "cell_type": "code",
   "execution_count": 18,
   "id": "laden-binary",
   "metadata": {},
   "outputs": [
    {
     "name": "stdout",
     "output_type": "stream",
     "text": [
      "(0.7071067812+0j)|01> + (-0.7071067812+0j)|11>\n"
     ]
    }
   ],
   "source": [
    "from pyquil.api import WavefunctionSimulator\n",
    "wfn = WavefunctionSimulator().wavefunction(qc)\n",
    "print(wfn)"
   ]
  },
  {
   "cell_type": "markdown",
   "id": "hollywood-emission",
   "metadata": {},
   "source": [
    "### Comentarios\n",
    "\n",
    "Al ser un oráculo con una función balanceada, siguendo el algoritmo de Deutsch, el cubit 0 debería acabar siempre en el estado |1>. Podemos comprobar que esto se cumple ya que en los dos estados posibles que nos devuelve WavefunctionSimulator el cubit 0 siempre es 1."
   ]
  },
  {
   "cell_type": "code",
   "execution_count": 19,
   "id": "affected-coalition",
   "metadata": {},
   "outputs": [
    {
     "data": {
      "text/plain": [
       "[0, 1]"
      ]
     },
     "execution_count": 19,
     "metadata": {},
     "output_type": "execute_result"
    }
   ],
   "source": [
    "computer = get_qc('2q-qvm')\n",
    "computer.qubits() # comprobamos el numero de cubits que tiene la computadora cuántica"
   ]
  },
  {
   "cell_type": "code",
   "execution_count": 20,
   "id": "considered-emphasis",
   "metadata": {},
   "outputs": [
    {
     "data": {
      "text/plain": [
       "{0: array([1, 1, 1, 1, 1, 1, 1, 1, 1, 1, 1, 1, 1, 1, 1, 1, 1, 1, 1, 1]),\n",
       " 1: array([0, 1, 1, 1, 1, 1, 1, 1, 1, 0, 1, 0, 0, 1, 0, 0, 0, 1, 1, 0])}"
      ]
     },
     "execution_count": 20,
     "metadata": {},
     "output_type": "execute_result"
    }
   ],
   "source": [
    "bitstrings = computer.run_and_measure(qc, trials=20)\n",
    "bitstrings"
   ]
  },
  {
   "cell_type": "markdown",
   "id": "filled-brief",
   "metadata": {},
   "source": [
    "### Comentarios\n",
    "\n",
    "Podemos ver como los comentarios anteriores tenían razón y el cubit 0 siempre colapsa al estado 1 al medirlo, mientras que el cubit 1 tiene un 50% de probabilidades de ser tanto 0 como 1."
   ]
  },
  {
   "cell_type": "markdown",
   "id": "administrative-torture",
   "metadata": {},
   "source": [
    "--------------------------------\n",
    "\n",
    "## Oráculo balanceado 2:"
   ]
  },
  {
   "cell_type": "code",
   "execution_count": 21,
   "id": "pointed-mumbai",
   "metadata": {
    "scrolled": false
   },
   "outputs": [
    {
     "name": "stdout",
     "output_type": "stream",
     "text": [
      "X 1\n",
      "H 0\n",
      "H 1\n",
      "CNOT 0 1\n",
      "X 1\n",
      "H 0\n",
      "\n"
     ]
    }
   ],
   "source": [
    "qc = algoritmoDeutsch(\"oraculo_balanceado1\")\n",
    "print(qc)"
   ]
  },
  {
   "cell_type": "code",
   "execution_count": 22,
   "id": "following-geography",
   "metadata": {},
   "outputs": [
    {
     "name": "stdout",
     "output_type": "stream",
     "text": [
      "(-0.7071067812+0j)|01> + (0.7071067812+0j)|11>\n"
     ]
    }
   ],
   "source": [
    "from pyquil.api import WavefunctionSimulator\n",
    "wfn = WavefunctionSimulator().wavefunction(qc)\n",
    "print(wfn)"
   ]
  },
  {
   "cell_type": "markdown",
   "id": "sized-drink",
   "metadata": {},
   "source": [
    "### Comentarios\n",
    "\n",
    "Al igual que en el oráculo anterior, este oráculo contiene una función balanceada por lo que queremos que el cubit 0 nos devuelva siempre un 1. En este caso sigue ocurriendo este fenómeno por lo que el algoritmo funciona."
   ]
  },
  {
   "cell_type": "code",
   "execution_count": 23,
   "id": "wireless-bermuda",
   "metadata": {},
   "outputs": [
    {
     "data": {
      "text/plain": [
       "[0, 1]"
      ]
     },
     "execution_count": 23,
     "metadata": {},
     "output_type": "execute_result"
    }
   ],
   "source": [
    "computer = get_qc('2q-qvm')\n",
    "computer.qubits() # comprobamos el numero de cubits que tiene la computadora cuántica"
   ]
  },
  {
   "cell_type": "code",
   "execution_count": 24,
   "id": "convertible-demonstration",
   "metadata": {},
   "outputs": [
    {
     "data": {
      "text/plain": [
       "{0: array([1, 1, 1, 1, 1, 1, 1, 1, 1, 1, 1, 1, 1, 1, 1, 1, 1, 1, 1, 1]),\n",
       " 1: array([0, 0, 0, 1, 1, 0, 0, 0, 1, 0, 1, 1, 1, 0, 0, 1, 1, 1, 0, 0])}"
      ]
     },
     "execution_count": 24,
     "metadata": {},
     "output_type": "execute_result"
    }
   ],
   "source": [
    "bitstrings = computer.run_and_measure(qc, trials=20)\n",
    "bitstrings"
   ]
  },
  {
   "cell_type": "markdown",
   "id": "worthy-chassis",
   "metadata": {},
   "source": [
    "### Comentarios\n",
    "\n",
    "Podemos ver como los comentarios anteriores tenían razón y el cubit 0 siempre colapsa al estado 1 al medirlo, mientras que el cubit 1 tiene un 50% de probabilidades de ser tanto 0 como 1."
   ]
  }
 ],
 "metadata": {
  "kernelspec": {
   "display_name": "Python 3",
   "language": "python",
   "name": "python3"
  },
  "language_info": {
   "codemirror_mode": {
    "name": "ipython",
    "version": 3
   },
   "file_extension": ".py",
   "mimetype": "text/x-python",
   "name": "python",
   "nbconvert_exporter": "python",
   "pygments_lexer": "ipython3",
   "version": "3.8.5"
  }
 },
 "nbformat": 4,
 "nbformat_minor": 5
}
