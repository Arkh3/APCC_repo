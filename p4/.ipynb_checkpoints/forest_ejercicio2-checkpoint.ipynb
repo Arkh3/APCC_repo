{
 "cells": [
  {
   "cell_type": "code",
   "execution_count": 13,
   "id": "strange-remainder",
   "metadata": {},
   "outputs": [],
   "source": [
    "from pyquil import Program, get_qc\n",
    "from pyquil.gates import *\n",
    "from pyquil.api import WavefunctionSimulator"
   ]
  },
  {
   "cell_type": "markdown",
   "id": "underlying-sight",
   "metadata": {},
   "source": [
    "# ALGORITMO DE DEUTSCH-JOZSA\n",
    "\n",
    "Ahora programaremos el algoritmo de Deutsch-Jozsa en Forest.\n",
    "\n",
    "----\n",
    "\n",
    "## 1- Crearemos todos los oráculos y los guardamos en un diccionario.\n",
    "\n",
    "Hay que crear:\n",
    "\n",
    "a) Oráculos de 2 bits:\n",
    "- 2 constantes\n",
    "- 2 balanceados\n",
    "\n",
    "b) Oráculos de 3 bits:\n",
    "- 2 constantes \n",
    "- 2 balanceados\n",
    "\n",
    "### * Oráculos de 2 bits:"
   ]
  },
  {
   "cell_type": "code",
   "execution_count": 2,
   "id": "special-nothing",
   "metadata": {},
   "outputs": [
    {
     "name": "stdout",
     "output_type": "stream",
     "text": [
      "\n"
     ]
    }
   ],
   "source": [
    "const_oracle0_2b = Program()\n",
    "print(const_oracle0_2b)"
   ]
  },
  {
   "cell_type": "code",
   "execution_count": 3,
   "id": "instant-brain",
   "metadata": {},
   "outputs": [
    {
     "name": "stdout",
     "output_type": "stream",
     "text": [
      "X 2\n",
      "\n"
     ]
    }
   ],
   "source": [
    "const_oracle1_2b = Program()\n",
    "const_oracle1_2b += X(2)\n",
    "\n",
    "print(const_oracle1_2b)"
   ]
  },
  {
   "cell_type": "code",
   "execution_count": 4,
   "id": "downtown-union",
   "metadata": {},
   "outputs": [
    {
     "name": "stdout",
     "output_type": "stream",
     "text": [
      "CNOT 0 2\n",
      "CNOT 1 2\n",
      "\n"
     ]
    }
   ],
   "source": [
    "balanced_oracle0_2b = Program()\n",
    "balanced_oracle0_2b += CNOT(0,2)\n",
    "balanced_oracle0_2b += CNOT(1,2)\n",
    "\n",
    "print(balanced_oracle0_2b)"
   ]
  },
  {
   "cell_type": "code",
   "execution_count": 5,
   "id": "chubby-station",
   "metadata": {},
   "outputs": [
    {
     "name": "stdout",
     "output_type": "stream",
     "text": [
      "CNOT 0 2\n",
      "\n"
     ]
    }
   ],
   "source": [
    "balanced_oracle1_2b = Program()\n",
    "balanced_oracle1_2b += CNOT(0,2)\n",
    "\n",
    "print(balanced_oracle1_2b)"
   ]
  },
  {
   "cell_type": "markdown",
   "id": "regulated-latino",
   "metadata": {},
   "source": [
    "### * Oráculos de 3 bits:"
   ]
  },
  {
   "cell_type": "code",
   "execution_count": 6,
   "id": "advance-mortality",
   "metadata": {},
   "outputs": [
    {
     "name": "stdout",
     "output_type": "stream",
     "text": [
      "\n"
     ]
    }
   ],
   "source": [
    "const_oracle0_3b = Program()\n",
    "print(const_oracle0_3b)"
   ]
  },
  {
   "cell_type": "code",
   "execution_count": 7,
   "id": "magnetic-guarantee",
   "metadata": {},
   "outputs": [
    {
     "name": "stdout",
     "output_type": "stream",
     "text": [
      "X 3\n",
      "\n"
     ]
    }
   ],
   "source": [
    "const_oracle1_3b = Program()\n",
    "const_oracle1_3b += X(3)\n",
    "\n",
    "print(const_oracle1_3b)"
   ]
  },
  {
   "cell_type": "code",
   "execution_count": 8,
   "id": "residential-gravity",
   "metadata": {},
   "outputs": [
    {
     "name": "stdout",
     "output_type": "stream",
     "text": [
      "CNOT 0 3\n",
      "CNOT 1 3\n",
      "CNOT 2 3\n",
      "\n"
     ]
    }
   ],
   "source": [
    "balanced_oracle0_3b = Program()\n",
    "balanced_oracle0_3b += CNOT(0,3)\n",
    "balanced_oracle0_3b += CNOT(1,3)\n",
    "balanced_oracle0_3b += CNOT(2,3)\n",
    "\n",
    "print(balanced_oracle0_3b)"
   ]
  },
  {
   "cell_type": "code",
   "execution_count": 9,
   "id": "tight-fundamentals",
   "metadata": {},
   "outputs": [
    {
     "name": "stdout",
     "output_type": "stream",
     "text": [
      "CNOT 0 3\n",
      "\n"
     ]
    }
   ],
   "source": [
    "balanced_oracle1_3b = Program()\n",
    "balanced_oracle1_3b += CNOT(0,3)\n",
    "\n",
    "print(balanced_oracle1_3b)"
   ]
  },
  {
   "cell_type": "code",
   "execution_count": 10,
   "id": "rational-navigator",
   "metadata": {},
   "outputs": [],
   "source": [
    "oraculos = dict()\n",
    "oraculos['const_oracle0_2b'] = const_oracle0_2b\n",
    "oraculos['const_oracle1_2b'] = const_oracle1_2b\n",
    "oraculos['balanced_oracle0_2b'] = balanced_oracle0_2b\n",
    "oraculos['balanced_oracle1_2b'] = balanced_oracle1_2b\n",
    "\n",
    "oraculos['const_oracle0_3b'] = const_oracle0_3b\n",
    "oraculos['const_oracle1_3b'] = const_oracle1_3b\n",
    "oraculos['balanced_oracle0_3b'] = balanced_oracle0_3b\n",
    "oraculos['balanced_oracle1_3b'] = balanced_oracle1_3b"
   ]
  },
  {
   "cell_type": "markdown",
   "id": "opposed-voice",
   "metadata": {},
   "source": [
    "## 2- Creamos el resto del circuito del algoritmo de Deutsch-Jozsa para funciones de 2 bits"
   ]
  },
  {
   "cell_type": "code",
   "execution_count": 11,
   "id": "virgin-bermuda",
   "metadata": {},
   "outputs": [],
   "source": [
    "def deutsch_jozsa(n,oraculo):\n",
    "\n",
    "    dj_circuit = Program()\n",
    "\n",
    "    # Apply H-gates\n",
    "    for qubit in range(n):\n",
    "        dj_circuit += H(qubit)\n",
    "\n",
    "    # Put qubit in state |->\n",
    "    dj_circuit += X(n)\n",
    "    dj_circuit += H(n)\n",
    "    \n",
    "\n",
    "    # Add oracle\n",
    "    dj_circuit += oraculos[oraculo]\n",
    "\n",
    "    \n",
    "    # Repeat H-gates\n",
    "    for qubit in range(n):\n",
    "        dj_circuit += H(qubit)\n",
    "        \n",
    "\n",
    "    return dj_circuit\n"
   ]
  },
  {
   "cell_type": "markdown",
   "id": "polish-citizen",
   "metadata": {},
   "source": [
    "## 3- Simulamos los oráculos constantes de 2 bits\n",
    "\n",
    "Al ser funciones constantes de 2 bits, los primeros 2 cubits deberían colapsar al estado |0> después de medirlos."
   ]
  },
  {
   "cell_type": "code",
   "execution_count": 12,
   "id": "surrounded-czech",
   "metadata": {
    "scrolled": true
   },
   "outputs": [
    {
     "name": "stdout",
     "output_type": "stream",
     "text": [
      "H 0\n",
      "H 1\n",
      "X 2\n",
      "H 2\n",
      "H 0\n",
      "H 1\n",
      "\n"
     ]
    }
   ],
   "source": [
    "#oráculo constante 1 de 2 bits\n",
    "qc = deutsch_jozsa(2,\"const_oracle0_2b\")\n",
    "print(qc)"
   ]
  },
  {
   "cell_type": "code",
   "execution_count": 16,
   "id": "variable-approval",
   "metadata": {
    "scrolled": true
   },
   "outputs": [
    {
     "name": "stdout",
     "output_type": "stream",
     "text": [
      "Wave function:\n",
      "(0.7071067812+0j)|000> + (-0.7071067812+0j)|100>\n",
      "\n",
      "Results:\n",
      "{0: array([0, 0, 0, 0, 0, 0, 0, 0, 0, 0, 0, 0, 0, 0, 0, 0, 0, 0, 0, 0]), 1: array([0, 0, 0, 0, 0, 0, 0, 0, 0, 0, 0, 0, 0, 0, 0, 0, 0, 0, 0, 0]), 2: array([1, 0, 0, 1, 1, 0, 1, 1, 0, 1, 1, 1, 0, 1, 0, 1, 0, 0, 1, 1])}\n"
     ]
    }
   ],
   "source": [
    "wfn = WavefunctionSimulator().wavefunction(qc)\n",
    "print(\"Wave function:\")\n",
    "print(wfn)\n",
    "computer = get_qc('3q-qvm')\n",
    "bitstrings = computer.run_and_measure(qc, trials=20)\n",
    "print(\"\\nResults:\")\n",
    "print(bitstrings)"
   ]
  },
  {
   "cell_type": "code",
   "execution_count": 17,
   "id": "committed-envelope",
   "metadata": {
    "scrolled": true
   },
   "outputs": [
    {
     "name": "stdout",
     "output_type": "stream",
     "text": [
      "H 0\n",
      "H 1\n",
      "X 2\n",
      "H 2\n",
      "X 2\n",
      "H 0\n",
      "H 1\n",
      "\n"
     ]
    }
   ],
   "source": [
    "#oráculo constante 2 de 2 bits\n",
    "qc = deutsch_jozsa(2,\"const_oracle1_2b\")\n",
    "print(qc)"
   ]
  },
  {
   "cell_type": "code",
   "execution_count": 18,
   "id": "noticed-membership",
   "metadata": {
    "scrolled": false
   },
   "outputs": [
    {
     "name": "stdout",
     "output_type": "stream",
     "text": [
      "Wave function:\n",
      "(-0.7071067812+0j)|000> + (0.7071067812+0j)|100>\n",
      "\n",
      "Results:\n",
      "{0: array([0, 0, 0, 0, 0, 0, 0, 0, 0, 0, 0, 0, 0, 0, 0, 0, 0, 0, 0, 0]), 1: array([0, 0, 0, 0, 0, 0, 0, 0, 0, 0, 0, 0, 0, 0, 0, 0, 0, 0, 0, 0]), 2: array([1, 0, 1, 1, 1, 0, 0, 0, 0, 0, 1, 0, 1, 0, 1, 1, 1, 0, 0, 0])}\n"
     ]
    }
   ],
   "source": [
    "wfn = WavefunctionSimulator().wavefunction(qc)\n",
    "print(\"Wave function:\")\n",
    "print(wfn)\n",
    "computer = get_qc('3q-qvm')\n",
    "bitstrings = computer.run_and_measure(qc, trials=20)\n",
    "print(\"\\nResults:\")\n",
    "print(bitstrings)"
   ]
  },
  {
   "cell_type": "markdown",
   "id": "designed-placement",
   "metadata": {},
   "source": [
    "### Comentarios:\n",
    "\n",
    "\n",
    "----------------\n",
    "\n",
    "## 4- Simulamos los oráculos balanceados de 2 bits\n",
    "\n",
    "Al ser funciones balanceadas de 2 bits, los primeros 2 cubits deberían colapsar a un estado diferente al estado |0> tras medirlos."
   ]
  },
  {
   "cell_type": "code",
   "execution_count": 19,
   "id": "worse-visiting",
   "metadata": {
    "scrolled": true
   },
   "outputs": [
    {
     "name": "stdout",
     "output_type": "stream",
     "text": [
      "H 0\n",
      "H 1\n",
      "X 2\n",
      "H 2\n",
      "CNOT 0 2\n",
      "CNOT 1 2\n",
      "H 0\n",
      "H 1\n",
      "\n"
     ]
    }
   ],
   "source": [
    "#oráculo balanceado 1 de 2 bits\n",
    "qc = deutsch_jozsa(2,\"balanced_oracle0_2b\")\n",
    "print(qc)"
   ]
  },
  {
   "cell_type": "code",
   "execution_count": 20,
   "id": "pharmaceutical-guarantee",
   "metadata": {
    "scrolled": true
   },
   "outputs": [
    {
     "name": "stdout",
     "output_type": "stream",
     "text": [
      "Wave function:\n",
      "(0.7071067812+0j)|011> + (-0.7071067812+0j)|111>\n",
      "\n",
      "Results:\n",
      "{0: array([1, 1, 1, 1, 1, 1, 1, 1, 1, 1, 1, 1, 1, 1, 1, 1, 1, 1, 1, 1]), 1: array([1, 1, 1, 1, 1, 1, 1, 1, 1, 1, 1, 1, 1, 1, 1, 1, 1, 1, 1, 1]), 2: array([1, 0, 0, 0, 1, 1, 1, 0, 0, 0, 0, 0, 1, 0, 0, 1, 1, 1, 0, 0])}\n"
     ]
    }
   ],
   "source": [
    "wfn = WavefunctionSimulator().wavefunction(qc)\n",
    "print(\"Wave function:\")\n",
    "print(wfn)\n",
    "computer = get_qc('3q-qvm')\n",
    "bitstrings = computer.run_and_measure(qc, trials=20)\n",
    "print(\"\\nResults:\")\n",
    "print(bitstrings)"
   ]
  },
  {
   "cell_type": "code",
   "execution_count": 22,
   "id": "professional-north",
   "metadata": {
    "scrolled": true
   },
   "outputs": [
    {
     "name": "stdout",
     "output_type": "stream",
     "text": [
      "H 0\n",
      "H 1\n",
      "X 2\n",
      "H 2\n",
      "CNOT 0 2\n",
      "H 0\n",
      "H 1\n",
      "\n"
     ]
    }
   ],
   "source": [
    "#oráculo balanceado 2 de 2 bits\n",
    "qc = deutsch_jozsa(2,\"balanced_oracle1_2b\")\n",
    "print(qc)"
   ]
  },
  {
   "cell_type": "code",
   "execution_count": 23,
   "id": "polyphonic-external",
   "metadata": {
    "scrolled": false
   },
   "outputs": [
    {
     "name": "stdout",
     "output_type": "stream",
     "text": [
      "Wave function:\n",
      "(0.7071067812+0j)|001> + (-0.7071067812+0j)|101>\n",
      "\n",
      "Results:\n",
      "{0: array([1, 1, 1, 1, 1, 1, 1, 1, 1, 1, 1, 1, 1, 1, 1, 1, 1, 1, 1, 1]), 1: array([0, 0, 0, 0, 0, 0, 0, 0, 0, 0, 0, 0, 0, 0, 0, 0, 0, 0, 0, 0]), 2: array([0, 0, 1, 0, 1, 0, 1, 0, 0, 0, 1, 1, 0, 1, 1, 0, 1, 0, 0, 1])}\n"
     ]
    }
   ],
   "source": [
    "wfn = WavefunctionSimulator().wavefunction(qc)\n",
    "print(\"Wave function:\")\n",
    "print(wfn)\n",
    "computer = get_qc('3q-qvm')\n",
    "bitstrings = computer.run_and_measure(qc, trials=20)\n",
    "print(\"\\nResults:\")\n",
    "print(bitstrings)"
   ]
  },
  {
   "cell_type": "markdown",
   "id": "comparable-investing",
   "metadata": {},
   "source": [
    "## 5- Simulamos los oráculos constantes de 3 bits\n",
    "\n",
    "Al ser funciones constantes de 3 bits, los primeros 3 cubits deberían colapsar al estado |0> después de medirlos."
   ]
  },
  {
   "cell_type": "code",
   "execution_count": 25,
   "id": "detected-doctor",
   "metadata": {
    "scrolled": true
   },
   "outputs": [
    {
     "name": "stdout",
     "output_type": "stream",
     "text": [
      "H 0\n",
      "H 1\n",
      "H 2\n",
      "X 3\n",
      "H 3\n",
      "H 0\n",
      "H 1\n",
      "H 2\n",
      "\n"
     ]
    }
   ],
   "source": [
    "#oráculo constante 1 de 3 bits\n",
    "qc = deutsch_jozsa(3,\"const_oracle0_3b\")\n",
    "print(qc)"
   ]
  },
  {
   "cell_type": "code",
   "execution_count": 27,
   "id": "distant-entrepreneur",
   "metadata": {
    "scrolled": true
   },
   "outputs": [
    {
     "name": "stdout",
     "output_type": "stream",
     "text": [
      "Wave function:\n",
      "(0.7071067812+0j)|0000> + (-0.7071067812+0j)|1000>\n",
      "\n",
      "Results:\n",
      "{0: array([0, 0, 0, 0, 0, 0, 0, 0, 0, 0, 0, 0, 0, 0, 0, 0, 0, 0, 0, 0]), 1: array([0, 0, 0, 0, 0, 0, 0, 0, 0, 0, 0, 0, 0, 0, 0, 0, 0, 0, 0, 0]), 2: array([0, 0, 0, 0, 0, 0, 0, 0, 0, 0, 0, 0, 0, 0, 0, 0, 0, 0, 0, 0]), 3: array([1, 0, 1, 0, 0, 0, 0, 0, 0, 0, 1, 1, 0, 0, 1, 1, 1, 1, 1, 1])}\n"
     ]
    }
   ],
   "source": [
    "wfn = WavefunctionSimulator().wavefunction(qc)\n",
    "print(\"Wave function:\")\n",
    "print(wfn)\n",
    "computer = get_qc('4q-qvm')\n",
    "bitstrings = computer.run_and_measure(qc, trials=20)\n",
    "print(\"\\nResults:\")\n",
    "print(bitstrings)"
   ]
  },
  {
   "cell_type": "code",
   "execution_count": 28,
   "id": "successful-hunger",
   "metadata": {
    "scrolled": true
   },
   "outputs": [
    {
     "name": "stdout",
     "output_type": "stream",
     "text": [
      "H 0\n",
      "H 1\n",
      "H 2\n",
      "X 3\n",
      "H 3\n",
      "X 3\n",
      "H 0\n",
      "H 1\n",
      "H 2\n",
      "\n"
     ]
    }
   ],
   "source": [
    "#oráculo constante 2 de 2 bits\n",
    "qc = deutsch_jozsa(3,\"const_oracle1_3b\")\n",
    "print(qc)"
   ]
  },
  {
   "cell_type": "code",
   "execution_count": 29,
   "id": "metallic-inquiry",
   "metadata": {
    "scrolled": false
   },
   "outputs": [
    {
     "name": "stdout",
     "output_type": "stream",
     "text": [
      "Wave function:\n",
      "(-0.7071067812+0j)|0000> + (0.7071067812+0j)|1000>\n",
      "\n",
      "Results:\n",
      "{0: array([0, 0, 0, 0, 0, 0, 0, 0, 0, 0, 0, 0, 0, 0, 0, 0, 0, 0, 0, 0]), 1: array([0, 0, 0, 0, 0, 0, 0, 0, 0, 0, 0, 0, 0, 0, 0, 0, 0, 0, 0, 0]), 2: array([0, 0, 0, 0, 0, 0, 0, 0, 0, 0, 0, 0, 0, 0, 0, 0, 0, 0, 0, 0]), 3: array([0, 1, 0, 0, 1, 1, 1, 1, 0, 0, 0, 0, 1, 1, 0, 1, 0, 0, 0, 0])}\n"
     ]
    }
   ],
   "source": [
    "wfn = WavefunctionSimulator().wavefunction(qc)\n",
    "print(\"Wave function:\")\n",
    "print(wfn)\n",
    "computer = get_qc('4q-qvm')\n",
    "bitstrings = computer.run_and_measure(qc, trials=20)\n",
    "print(\"\\nResults:\")\n",
    "print(bitstrings)"
   ]
  },
  {
   "cell_type": "markdown",
   "id": "typical-nickname",
   "metadata": {},
   "source": [
    "### Comentarios:\n",
    "\n",
    "\n",
    "----------------\n",
    "\n",
    "## 6- Simulamos los oráculos balanceados de 3 bits\n",
    "\n",
    "Al ser funciones balanceadas de 3 bits, los primeros 3 cubits deberían colapsar a un estado diferente al estado |0> tras medirlos."
   ]
  },
  {
   "cell_type": "code",
   "execution_count": 30,
   "id": "optical-treat",
   "metadata": {
    "scrolled": true
   },
   "outputs": [
    {
     "name": "stdout",
     "output_type": "stream",
     "text": [
      "H 0\n",
      "H 1\n",
      "H 2\n",
      "X 3\n",
      "H 3\n",
      "CNOT 0 3\n",
      "CNOT 1 3\n",
      "CNOT 2 3\n",
      "H 0\n",
      "H 1\n",
      "H 2\n",
      "\n"
     ]
    }
   ],
   "source": [
    "#oráculo balanceado 1 de 3 bits\n",
    "qc = deutsch_jozsa(3,\"balanced_oracle0_3b\")\n",
    "print(qc)"
   ]
  },
  {
   "cell_type": "code",
   "execution_count": 31,
   "id": "cosmetic-punch",
   "metadata": {
    "scrolled": true
   },
   "outputs": [
    {
     "name": "stdout",
     "output_type": "stream",
     "text": [
      "Wave function:\n",
      "(0.7071067812+0j)|0111> + (-0.7071067812+0j)|1111>\n",
      "\n",
      "Results:\n",
      "{0: array([1, 1, 1, 1, 1, 1, 1, 1, 1, 1, 1, 1, 1, 1, 1, 1, 1, 1, 1, 1]), 1: array([1, 1, 1, 1, 1, 1, 1, 1, 1, 1, 1, 1, 1, 1, 1, 1, 1, 1, 1, 1]), 2: array([1, 1, 1, 1, 1, 1, 1, 1, 1, 1, 1, 1, 1, 1, 1, 1, 1, 1, 1, 1]), 3: array([1, 1, 0, 0, 1, 1, 1, 0, 1, 1, 0, 1, 0, 0, 0, 1, 0, 0, 0, 0])}\n"
     ]
    }
   ],
   "source": [
    "wfn = WavefunctionSimulator().wavefunction(qc)\n",
    "print(\"Wave function:\")\n",
    "print(wfn)\n",
    "computer = get_qc('4q-qvm')\n",
    "bitstrings = computer.run_and_measure(qc, trials=20)\n",
    "print(\"\\nResults:\")\n",
    "print(bitstrings)"
   ]
  },
  {
   "cell_type": "code",
   "execution_count": 32,
   "id": "roman-soccer",
   "metadata": {
    "scrolled": true
   },
   "outputs": [
    {
     "name": "stdout",
     "output_type": "stream",
     "text": [
      "H 0\n",
      "H 1\n",
      "H 2\n",
      "X 3\n",
      "H 3\n",
      "CNOT 0 3\n",
      "H 0\n",
      "H 1\n",
      "H 2\n",
      "\n"
     ]
    }
   ],
   "source": [
    "#oráculo balanceado 2 de 2 bits\n",
    "qc = deutsch_jozsa(3,\"balanced_oracle1_3b\")\n",
    "print(qc)"
   ]
  },
  {
   "cell_type": "code",
   "execution_count": 33,
   "id": "skilled-bolivia",
   "metadata": {
    "scrolled": true
   },
   "outputs": [
    {
     "name": "stdout",
     "output_type": "stream",
     "text": [
      "Wave function:\n",
      "(0.7071067812+0j)|0001> + (-0.7071067812+0j)|1001>\n",
      "\n",
      "Results:\n",
      "{0: array([1, 1, 1, 1, 1, 1, 1, 1, 1, 1, 1, 1, 1, 1, 1, 1, 1, 1, 1, 1]), 1: array([0, 0, 0, 0, 0, 0, 0, 0, 0, 0, 0, 0, 0, 0, 0, 0, 0, 0, 0, 0]), 2: array([0, 0, 0, 0, 0, 0, 0, 0, 0, 0, 0, 0, 0, 0, 0, 0, 0, 0, 0, 0]), 3: array([1, 1, 1, 0, 1, 1, 1, 1, 1, 1, 1, 0, 1, 1, 1, 0, 0, 0, 0, 0])}\n"
     ]
    }
   ],
   "source": [
    "wfn = WavefunctionSimulator().wavefunction(qc)\n",
    "print(\"Wave function:\")\n",
    "print(wfn)\n",
    "computer = get_qc('4q-qvm')\n",
    "bitstrings = computer.run_and_measure(qc, trials=20)\n",
    "print(\"\\nResults:\")\n",
    "print(bitstrings)"
   ]
  },
  {
   "cell_type": "code",
   "execution_count": null,
   "id": "classical-preliminary",
   "metadata": {},
   "outputs": [],
   "source": []
  }
 ],
 "metadata": {
  "kernelspec": {
   "display_name": "Python 3",
   "language": "python",
   "name": "python3"
  },
  "language_info": {
   "codemirror_mode": {
    "name": "ipython",
    "version": 3
   },
   "file_extension": ".py",
   "mimetype": "text/x-python",
   "name": "python",
   "nbconvert_exporter": "python",
   "pygments_lexer": "ipython3",
   "version": "3.8.5"
  }
 },
 "nbformat": 4,
 "nbformat_minor": 5
}
