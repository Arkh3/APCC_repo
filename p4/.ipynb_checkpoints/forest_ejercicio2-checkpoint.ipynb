{
 "cells": [
  {
   "cell_type": "code",
   "execution_count": 13,
   "metadata": {},
   "outputs": [],
   "source": [
    "from pyquil import Program, get_qc\n",
    "from pyquil.gates import *\n",
    "from pyquil.api import WavefunctionSimulator"
   ]
  },
  {
   "cell_type": "markdown",
   "metadata": {},
   "source": [
    "# ALGORITMO DE DEUTSCH-JOZSA\n",
    "\n",
    "Ahora programaremos el algoritmo de Deutsch-Jozsa en Forest.\n",
    "\n",
    "----\n",
    "\n",
    "## 1- Crearemos todos los oráculos y los guardamos en un diccionario.\n",
    "\n",
    "Hay que crear:\n",
    "\n",
    "a) Oráculos de 2 bits:\n",
    "- 2 constantes\n",
    "- 2 balanceados\n",
    "\n",
    "b) Oráculos de 3 bits:\n",
    "- 2 constantes \n",
    "- 2 balanceados\n",
    "\n",
    "### * Oráculos de 2 bits:"
   ]
  },
  {
   "cell_type": "code",
   "execution_count": 2,
   "metadata": {},
   "outputs": [
    {
     "name": "stdout",
     "output_type": "stream",
     "text": [
      "\n"
     ]
    }
   ],
   "source": [
    "# oráculo constante 1 de 2 bits\n",
    "\n",
    "const_oracle0_2b = Program()\n",
    "print(const_oracle0_2b)"
   ]
  },
  {
   "cell_type": "code",
   "execution_count": 3,
   "metadata": {},
   "outputs": [
    {
     "name": "stdout",
     "output_type": "stream",
     "text": [
      "X 2\n",
      "\n"
     ]
    }
   ],
   "source": [
    "# oráculo constante 2 de 2bits\n",
    "\n",
    "const_oracle1_2b = Program()\n",
    "const_oracle1_2b += X(2)\n",
    "\n",
    "print(const_oracle1_2b)"
   ]
  },
  {
   "cell_type": "code",
   "execution_count": 4,
   "metadata": {},
   "outputs": [
    {
     "name": "stdout",
     "output_type": "stream",
     "text": [
      "CNOT 0 2\n",
      "CNOT 1 2\n",
      "\n"
     ]
    }
   ],
   "source": [
    "# oráculo balanceado 1 de 2 bits\n",
    "\n",
    "balanced_oracle0_2b = Program()\n",
    "balanced_oracle0_2b += CNOT(0,2)\n",
    "balanced_oracle0_2b += CNOT(1,2)\n",
    "\n",
    "print(balanced_oracle0_2b)"
   ]
  },
  {
   "cell_type": "code",
   "execution_count": 5,
   "metadata": {},
   "outputs": [
    {
     "name": "stdout",
     "output_type": "stream",
     "text": [
      "CNOT 0 2\n",
      "\n"
     ]
    }
   ],
   "source": [
    "# oráculo balanceado 2 de 2 bits\n",
    "\n",
    "balanced_oracle1_2b = Program()\n",
    "balanced_oracle1_2b += CNOT(0,2)\n",
    "\n",
    "print(balanced_oracle1_2b)"
   ]
  },
  {
   "cell_type": "markdown",
   "metadata": {},
   "source": [
    "### * Oráculos de 3 bits:"
   ]
  },
  {
   "cell_type": "code",
   "execution_count": 6,
   "metadata": {},
   "outputs": [
    {
     "name": "stdout",
     "output_type": "stream",
     "text": [
      "\n"
     ]
    }
   ],
   "source": [
    "# oráculo constante 1 de 3 bits\n",
    "\n",
    "const_oracle0_3b = Program()\n",
    "print(const_oracle0_3b)"
   ]
  },
  {
   "cell_type": "code",
   "execution_count": 7,
   "metadata": {},
   "outputs": [
    {
     "name": "stdout",
     "output_type": "stream",
     "text": [
      "X 3\n",
      "\n"
     ]
    }
   ],
   "source": [
    "# oráculo constante 2 de 3 bits\n",
    "\n",
    "const_oracle1_3b = Program()\n",
    "const_oracle1_3b += X(3)\n",
    "\n",
    "print(const_oracle1_3b)"
   ]
  },
  {
   "cell_type": "code",
   "execution_count": 8,
   "metadata": {},
   "outputs": [
    {
     "name": "stdout",
     "output_type": "stream",
     "text": [
      "CNOT 0 3\n",
      "CNOT 1 3\n",
      "CNOT 2 3\n",
      "\n"
     ]
    }
   ],
   "source": [
    "# oráculo balanceado 1 de 3 bits\n",
    "\n",
    "balanced_oracle0_3b = Program()\n",
    "balanced_oracle0_3b += CNOT(0,3)\n",
    "balanced_oracle0_3b += CNOT(1,3)\n",
    "balanced_oracle0_3b += CNOT(2,3)\n",
    "\n",
    "print(balanced_oracle0_3b)"
   ]
  },
  {
   "cell_type": "code",
   "execution_count": 9,
   "metadata": {},
   "outputs": [
    {
     "name": "stdout",
     "output_type": "stream",
     "text": [
      "CNOT 0 3\n",
      "\n"
     ]
    }
   ],
   "source": [
    "# oráculo balanceado 2 de 3 bits\n",
    "\n",
    "balanced_oracle1_3b = Program()\n",
    "balanced_oracle1_3b += CNOT(0,3)\n",
    "\n",
    "print(balanced_oracle1_3b)"
   ]
  },
  {
   "cell_type": "code",
   "execution_count": 10,
   "metadata": {},
   "outputs": [],
   "source": [
    "oraculos = dict()\n",
    "oraculos['const_oracle0_2b'] = const_oracle0_2b\n",
    "oraculos['const_oracle1_2b'] = const_oracle1_2b\n",
    "oraculos['balanced_oracle0_2b'] = balanced_oracle0_2b\n",
    "oraculos['balanced_oracle1_2b'] = balanced_oracle1_2b\n",
    "\n",
    "oraculos['const_oracle0_3b'] = const_oracle0_3b\n",
    "oraculos['const_oracle1_3b'] = const_oracle1_3b\n",
    "oraculos['balanced_oracle0_3b'] = balanced_oracle0_3b\n",
    "oraculos['balanced_oracle1_3b'] = balanced_oracle1_3b"
   ]
  },
  {
   "cell_type": "markdown",
   "metadata": {},
   "source": [
    "## 2- Creamos el resto del circuito del algoritmo de Deutsch-Jozsa "
   ]
  },
  {
   "cell_type": "code",
   "execution_count": 11,
   "metadata": {},
   "outputs": [],
   "source": [
    "def deutsch_jozsa(n,oraculo):\n",
    "\n",
    "    dj_circuit = Program()\n",
    "\n",
    "    # Apply H-gates\n",
    "    for qubit in range(n):\n",
    "        dj_circuit += H(qubit)\n",
    "\n",
    "    # Put qubit in state |->\n",
    "    dj_circuit += X(n)\n",
    "    dj_circuit += H(n)\n",
    "    \n",
    "    # Add oracle\n",
    "    dj_circuit += oraculos[oraculo]\n",
    "\n",
    "    # Repeat H-gates\n",
    "    for qubit in range(n):\n",
    "        dj_circuit += H(qubit)\n",
    "        \n",
    "\n",
    "    return dj_circuit"
   ]
  },
  {
   "cell_type": "markdown",
   "metadata": {},
   "source": [
    "## 3- Simulamos los oráculos constantes de 2 bits\n",
    "\n",
    "Al ser funciones constantes de 2 bits, los primeros 2 cubits deberían colapsar al estado |0> después de medirlos."
   ]
  },
  {
   "cell_type": "code",
   "execution_count": 12,
   "metadata": {
    "scrolled": true
   },
   "outputs": [
    {
     "name": "stdout",
     "output_type": "stream",
     "text": [
      "H 0\n",
      "H 1\n",
      "X 2\n",
      "H 2\n",
      "H 0\n",
      "H 1\n",
      "\n"
     ]
    }
   ],
   "source": [
    "#oráculo constante 1 de 2 bits\n",
    "qc = deutsch_jozsa(2,\"const_oracle0_2b\")\n",
    "print(qc)"
   ]
  },
  {
   "cell_type": "code",
   "execution_count": 16,
   "metadata": {
    "scrolled": true
   },
   "outputs": [
    {
     "name": "stdout",
     "output_type": "stream",
     "text": [
      "Wave function:\n",
      "(0.7071067812+0j)|000> + (-0.7071067812+0j)|100>\n",
      "\n",
      "Results:\n",
      "{0: array([0, 0, 0, 0, 0, 0, 0, 0, 0, 0, 0, 0, 0, 0, 0, 0, 0, 0, 0, 0]), 1: array([0, 0, 0, 0, 0, 0, 0, 0, 0, 0, 0, 0, 0, 0, 0, 0, 0, 0, 0, 0]), 2: array([1, 0, 0, 1, 1, 0, 1, 1, 0, 1, 1, 1, 0, 1, 0, 1, 0, 0, 1, 1])}\n"
     ]
    }
   ],
   "source": [
    "wfn = WavefunctionSimulator().wavefunction(qc)\n",
    "print(\"Wave function:\")\n",
    "print(wfn)\n",
    "computer = get_qc('3q-qvm')\n",
    "bitstrings = computer.run_and_measure(qc, trials=20)\n",
    "print(\"\\nResults:\")\n",
    "print(bitstrings)"
   ]
  },
  {
   "cell_type": "markdown",
   "metadata": {},
   "source": [
    "### Comentarios:\n",
    "\n",
    "Podemos ver en la Wave function como los 2 primeros cubits (los dos menos significativos) tienen un 100% de posibilidades de colapsar a 0 mientras que el último cubit tiene un 50% de ser tanto 0 como 1.\n",
    "\n",
    "En la simulación que ejecutamos 20 veces, los 2 primeros cubits siempre nos dan 0.\n",
    "\n",
    "Todo esto demuestra que para este oráculo constante el algoritmo funciona y siempre devuelve 0 en los 2 cubits menos significativos."
   ]
  },
  {
   "cell_type": "code",
   "execution_count": 17,
   "metadata": {
    "scrolled": true
   },
   "outputs": [
    {
     "name": "stdout",
     "output_type": "stream",
     "text": [
      "H 0\n",
      "H 1\n",
      "X 2\n",
      "H 2\n",
      "X 2\n",
      "H 0\n",
      "H 1\n",
      "\n"
     ]
    }
   ],
   "source": [
    "#oráculo constante 2 de 2 bits\n",
    "qc = deutsch_jozsa(2,\"const_oracle1_2b\")\n",
    "print(qc)"
   ]
  },
  {
   "cell_type": "code",
   "execution_count": 18,
   "metadata": {
    "scrolled": false
   },
   "outputs": [
    {
     "name": "stdout",
     "output_type": "stream",
     "text": [
      "Wave function:\n",
      "(-0.7071067812+0j)|000> + (0.7071067812+0j)|100>\n",
      "\n",
      "Results:\n",
      "{0: array([0, 0, 0, 0, 0, 0, 0, 0, 0, 0, 0, 0, 0, 0, 0, 0, 0, 0, 0, 0]), 1: array([0, 0, 0, 0, 0, 0, 0, 0, 0, 0, 0, 0, 0, 0, 0, 0, 0, 0, 0, 0]), 2: array([1, 0, 1, 1, 1, 0, 0, 0, 0, 0, 1, 0, 1, 0, 1, 1, 1, 0, 0, 0])}\n"
     ]
    }
   ],
   "source": [
    "wfn = WavefunctionSimulator().wavefunction(qc)\n",
    "print(\"Wave function:\")\n",
    "print(wfn)\n",
    "computer = get_qc('3q-qvm')\n",
    "bitstrings = computer.run_and_measure(qc, trials=20)\n",
    "print(\"\\nResults:\")\n",
    "print(bitstrings)"
   ]
  },
  {
   "cell_type": "markdown",
   "metadata": {},
   "source": [
    "### Comentarios:\n",
    "\n",
    "Al igual que con el otro oráculo constante, se puede apreciar en la Wave function como los 2 primeros cubits (los dos menos significativos) tienen un 100% de posibilidades de colapsar a 0 mientras que el último cubit tiene un 50% de ser tanto 0 como 1.\n",
    "\n",
    "En la simulación que ejecutamos 20 veces, los 2 primeros cubits siempre colapsan a 0.\n",
    "\n",
    "Con esta simulación y la del oráculo anterior podemos concluir que el algoritmo de Deutsch-Jozsa funciona para oráculos constantes de 2 bits.\n",
    "\n",
    "----------------\n",
    "\n",
    "## 4- Simulamos los oráculos balanceados de 2 bits\n",
    "\n",
    "Al ser funciones balanceadas de 2 bits, los primeros 2 cubits deberían colapsar a un estado diferente al estado |0> tras medirlos."
   ]
  },
  {
   "cell_type": "code",
   "execution_count": 19,
   "metadata": {
    "scrolled": true
   },
   "outputs": [
    {
     "name": "stdout",
     "output_type": "stream",
     "text": [
      "H 0\n",
      "H 1\n",
      "X 2\n",
      "H 2\n",
      "CNOT 0 2\n",
      "CNOT 1 2\n",
      "H 0\n",
      "H 1\n",
      "\n"
     ]
    }
   ],
   "source": [
    "#oráculo balanceado 1 de 2 bits\n",
    "qc = deutsch_jozsa(2,\"balanced_oracle0_2b\")\n",
    "print(qc)"
   ]
  },
  {
   "cell_type": "code",
   "execution_count": 20,
   "metadata": {
    "scrolled": true
   },
   "outputs": [
    {
     "name": "stdout",
     "output_type": "stream",
     "text": [
      "Wave function:\n",
      "(0.7071067812+0j)|011> + (-0.7071067812+0j)|111>\n",
      "\n",
      "Results:\n",
      "{0: array([1, 1, 1, 1, 1, 1, 1, 1, 1, 1, 1, 1, 1, 1, 1, 1, 1, 1, 1, 1]), 1: array([1, 1, 1, 1, 1, 1, 1, 1, 1, 1, 1, 1, 1, 1, 1, 1, 1, 1, 1, 1]), 2: array([1, 0, 0, 0, 1, 1, 1, 0, 0, 0, 0, 0, 1, 0, 0, 1, 1, 1, 0, 0])}\n"
     ]
    }
   ],
   "source": [
    "wfn = WavefunctionSimulator().wavefunction(qc)\n",
    "print(\"Wave function:\")\n",
    "print(wfn)\n",
    "computer = get_qc('3q-qvm')\n",
    "bitstrings = computer.run_and_measure(qc, trials=20)\n",
    "print(\"\\nResults:\")\n",
    "print(bitstrings)"
   ]
  },
  {
   "cell_type": "markdown",
   "metadata": {},
   "source": [
    "### Comentarios:\n",
    "\n",
    "Con los resultados de la simulación se puede observar como los 2 cubits menos significativos siempre van a colapsar al estado |11>. Al ser funciones balanceadas podemos ver como este es el resultado que esperábamos ya que los cubits colapsarán a un estado diferente al estado |0>."
   ]
  },
  {
   "cell_type": "code",
   "execution_count": 22,
   "metadata": {
    "scrolled": true
   },
   "outputs": [
    {
     "name": "stdout",
     "output_type": "stream",
     "text": [
      "H 0\n",
      "H 1\n",
      "X 2\n",
      "H 2\n",
      "CNOT 0 2\n",
      "H 0\n",
      "H 1\n",
      "\n"
     ]
    }
   ],
   "source": [
    "#oráculo balanceado 2 de 2 bits\n",
    "qc = deutsch_jozsa(2,\"balanced_oracle1_2b\")\n",
    "print(qc)"
   ]
  },
  {
   "cell_type": "code",
   "execution_count": 23,
   "metadata": {
    "scrolled": false
   },
   "outputs": [
    {
     "name": "stdout",
     "output_type": "stream",
     "text": [
      "Wave function:\n",
      "(0.7071067812+0j)|001> + (-0.7071067812+0j)|101>\n",
      "\n",
      "Results:\n",
      "{0: array([1, 1, 1, 1, 1, 1, 1, 1, 1, 1, 1, 1, 1, 1, 1, 1, 1, 1, 1, 1]), 1: array([0, 0, 0, 0, 0, 0, 0, 0, 0, 0, 0, 0, 0, 0, 0, 0, 0, 0, 0, 0]), 2: array([0, 0, 1, 0, 1, 0, 1, 0, 0, 0, 1, 1, 0, 1, 1, 0, 1, 0, 0, 1])}\n"
     ]
    }
   ],
   "source": [
    "wfn = WavefunctionSimulator().wavefunction(qc)\n",
    "print(\"Wave function:\")\n",
    "print(wfn)\n",
    "computer = get_qc('3q-qvm')\n",
    "bitstrings = computer.run_and_measure(qc, trials=20)\n",
    "print(\"\\nResults:\")\n",
    "print(bitstrings)"
   ]
  },
  {
   "cell_type": "markdown",
   "metadata": {},
   "source": [
    "### Comentarios:\n",
    "\n",
    "Al igual que con el oráculo anterior, los 2 cubits menos significativos colapsan a un estado diferente del |0> (siempre van a colapsar al estado |01>). Con esto podemos concluir que el algoritmo de Deutsch-Jozsa funciona para oráculos de dos bits (tanto constantes como balanceados)."
   ]
  },
  {
   "cell_type": "markdown",
   "metadata": {},
   "source": [
    "## 5- Simulamos los oráculos constantes de 3 bits\n",
    "\n",
    "Al ser funciones constantes de 3 bits, los primeros 3 cubits deberían colapsar al estado |0> después de medirlos."
   ]
  },
  {
   "cell_type": "code",
   "execution_count": 25,
   "metadata": {
    "scrolled": true
   },
   "outputs": [
    {
     "name": "stdout",
     "output_type": "stream",
     "text": [
      "H 0\n",
      "H 1\n",
      "H 2\n",
      "X 3\n",
      "H 3\n",
      "H 0\n",
      "H 1\n",
      "H 2\n",
      "\n"
     ]
    }
   ],
   "source": [
    "#oráculo constante 1 de 3 bits\n",
    "qc = deutsch_jozsa(3,\"const_oracle0_3b\")\n",
    "print(qc)"
   ]
  },
  {
   "cell_type": "code",
   "execution_count": 27,
   "metadata": {
    "scrolled": true
   },
   "outputs": [
    {
     "name": "stdout",
     "output_type": "stream",
     "text": [
      "Wave function:\n",
      "(0.7071067812+0j)|0000> + (-0.7071067812+0j)|1000>\n",
      "\n",
      "Results:\n",
      "{0: array([0, 0, 0, 0, 0, 0, 0, 0, 0, 0, 0, 0, 0, 0, 0, 0, 0, 0, 0, 0]), 1: array([0, 0, 0, 0, 0, 0, 0, 0, 0, 0, 0, 0, 0, 0, 0, 0, 0, 0, 0, 0]), 2: array([0, 0, 0, 0, 0, 0, 0, 0, 0, 0, 0, 0, 0, 0, 0, 0, 0, 0, 0, 0]), 3: array([1, 0, 1, 0, 0, 0, 0, 0, 0, 0, 1, 1, 0, 0, 1, 1, 1, 1, 1, 1])}\n"
     ]
    }
   ],
   "source": [
    "wfn = WavefunctionSimulator().wavefunction(qc)\n",
    "print(\"Wave function:\")\n",
    "print(wfn)\n",
    "computer = get_qc('4q-qvm')\n",
    "bitstrings = computer.run_and_measure(qc, trials=20)\n",
    "print(\"\\nResults:\")\n",
    "print(bitstrings)"
   ]
  },
  {
   "cell_type": "markdown",
   "metadata": {},
   "source": [
    "### Comentarios:\n",
    "\n",
    "Los tres primeros cubits siempre van a colapsar al estado |0>. Este resultado es el esperado ya que estamos trabajando con un oráculo constante y el algoritmo de Deutsch-Jozsa dicta que para oráculos constantes, los 3 cubits menos significativos tienen que colapsar siempre al estado |0>"
   ]
  },
  {
   "cell_type": "code",
   "execution_count": 28,
   "metadata": {
    "scrolled": true
   },
   "outputs": [
    {
     "name": "stdout",
     "output_type": "stream",
     "text": [
      "H 0\n",
      "H 1\n",
      "H 2\n",
      "X 3\n",
      "H 3\n",
      "X 3\n",
      "H 0\n",
      "H 1\n",
      "H 2\n",
      "\n"
     ]
    }
   ],
   "source": [
    "#oráculo constante 2 de 2 bits\n",
    "qc = deutsch_jozsa(3,\"const_oracle1_3b\")\n",
    "print(qc)"
   ]
  },
  {
   "cell_type": "code",
   "execution_count": 29,
   "metadata": {
    "scrolled": false
   },
   "outputs": [
    {
     "name": "stdout",
     "output_type": "stream",
     "text": [
      "Wave function:\n",
      "(-0.7071067812+0j)|0000> + (0.7071067812+0j)|1000>\n",
      "\n",
      "Results:\n",
      "{0: array([0, 0, 0, 0, 0, 0, 0, 0, 0, 0, 0, 0, 0, 0, 0, 0, 0, 0, 0, 0]), 1: array([0, 0, 0, 0, 0, 0, 0, 0, 0, 0, 0, 0, 0, 0, 0, 0, 0, 0, 0, 0]), 2: array([0, 0, 0, 0, 0, 0, 0, 0, 0, 0, 0, 0, 0, 0, 0, 0, 0, 0, 0, 0]), 3: array([0, 1, 0, 0, 1, 1, 1, 1, 0, 0, 0, 0, 1, 1, 0, 1, 0, 0, 0, 0])}\n"
     ]
    }
   ],
   "source": [
    "wfn = WavefunctionSimulator().wavefunction(qc)\n",
    "print(\"Wave function:\")\n",
    "print(wfn)\n",
    "computer = get_qc('4q-qvm')\n",
    "bitstrings = computer.run_and_measure(qc, trials=20)\n",
    "print(\"\\nResults:\")\n",
    "print(bitstrings)"
   ]
  },
  {
   "cell_type": "markdown",
   "metadata": {},
   "source": [
    "### Comentarios:\n",
    "\n",
    "Al igual que con el oráculo constante anterior, los tres cubits menos significativos siempre van a colapsar al estado |0>. \n",
    "\n",
    "Con esta simulación y la del oráculo anterior podemos concluir que el algoritmo de Deutsch-Jozsa funciona para oráculos constantes de 3 bits.\n",
    " \n",
    "----------------\n",
    "\n",
    "## 6- Simulamos los oráculos balanceados de 3 bits\n",
    "\n",
    "Al ser funciones balanceadas de 3 bits, los primeros 3 cubits deberían colapsar a un estado diferente al estado |0> tras medirlos."
   ]
  },
  {
   "cell_type": "code",
   "execution_count": 2,
   "metadata": {
    "scrolled": true
   },
   "outputs": [
    {
     "name": "stdout",
     "output_type": "stream",
     "text": [
      "\u001b[H\u001b[2J"
     ]
    }
   ],
   "source": [
    "#oráculo balanceado 1 de 3 bits\n",
    "qc = deutsch_jozsa(3,\"balanced_oracle0_3b\")\n",
    "print(qc)"
   ]
  },
  {
   "cell_type": "code",
   "execution_count": 31,
   "metadata": {
    "scrolled": true
   },
   "outputs": [
    {
     "name": "stdout",
     "output_type": "stream",
     "text": [
      "Wave function:\n",
      "(0.7071067812+0j)|0111> + (-0.7071067812+0j)|1111>\n",
      "\n",
      "Results:\n",
      "{0: array([1, 1, 1, 1, 1, 1, 1, 1, 1, 1, 1, 1, 1, 1, 1, 1, 1, 1, 1, 1]), 1: array([1, 1, 1, 1, 1, 1, 1, 1, 1, 1, 1, 1, 1, 1, 1, 1, 1, 1, 1, 1]), 2: array([1, 1, 1, 1, 1, 1, 1, 1, 1, 1, 1, 1, 1, 1, 1, 1, 1, 1, 1, 1]), 3: array([1, 1, 0, 0, 1, 1, 1, 0, 1, 1, 0, 1, 0, 0, 0, 1, 0, 0, 0, 0])}\n"
     ]
    }
   ],
   "source": [
    "wfn = WavefunctionSimulator().wavefunction(qc)\n",
    "print(\"Wave function:\")\n",
    "print(wfn)\n",
    "computer = get_qc('4q-qvm')\n",
    "bitstrings = computer.run_and_measure(qc, trials=20)\n",
    "print(\"\\nResults:\")\n",
    "print(bitstrings)"
   ]
  },
  {
   "cell_type": "markdown",
   "metadata": {},
   "source": [
    "### Comentarios:\n",
    "\n",
    "En las simulaciones, podemos deducir que los 3 cubits menos significativos van a colapsar a un estado diferente al estado |0> (siempre colapsan al estado |111>).\n",
    "\n",
    "Esto es justo lo que esperábamos del algoritmo de Deutsch-Jozsa ya que al ser un oráculo balanceado, los 3 primeros cubits tienen que colapsar a un estado diferente del |0>.\n"
   ]
  },
  {
   "cell_type": "code",
   "execution_count": 32,
   "metadata": {
    "scrolled": true
   },
   "outputs": [
    {
     "name": "stdout",
     "output_type": "stream",
     "text": [
      "H 0\n",
      "H 1\n",
      "H 2\n",
      "X 3\n",
      "H 3\n",
      "CNOT 0 3\n",
      "H 0\n",
      "H 1\n",
      "H 2\n",
      "\n"
     ]
    }
   ],
   "source": [
    "#oráculo balanceado 2 de 2 bits\n",
    "qc = deutsch_jozsa(3,\"balanced_oracle1_3b\")\n",
    "print(qc)"
   ]
  },
  {
   "cell_type": "code",
   "execution_count": 33,
   "metadata": {
    "scrolled": true
   },
   "outputs": [
    {
     "name": "stdout",
     "output_type": "stream",
     "text": [
      "Wave function:\n",
      "(0.7071067812+0j)|0001> + (-0.7071067812+0j)|1001>\n",
      "\n",
      "Results:\n",
      "{0: array([1, 1, 1, 1, 1, 1, 1, 1, 1, 1, 1, 1, 1, 1, 1, 1, 1, 1, 1, 1]), 1: array([0, 0, 0, 0, 0, 0, 0, 0, 0, 0, 0, 0, 0, 0, 0, 0, 0, 0, 0, 0]), 2: array([0, 0, 0, 0, 0, 0, 0, 0, 0, 0, 0, 0, 0, 0, 0, 0, 0, 0, 0, 0]), 3: array([1, 1, 1, 0, 1, 1, 1, 1, 1, 1, 1, 0, 1, 1, 1, 0, 0, 0, 0, 0])}\n"
     ]
    }
   ],
   "source": [
    "wfn = WavefunctionSimulator().wavefunction(qc)\n",
    "print(\"Wave function:\")\n",
    "print(wfn)\n",
    "computer = get_qc('4q-qvm')\n",
    "bitstrings = computer.run_and_measure(qc, trials=20)\n",
    "print(\"\\nResults:\")\n",
    "print(bitstrings)"
   ]
  },
  {
   "cell_type": "markdown",
   "metadata": {},
   "source": [
    "### Comentarios:\n",
    "\n",
    "\n",
    "Al igual que con el oráculo balanceado anterior, los 3 primeros cubits colapsan a un estado diferente al |0>.\n",
    "\n",
    "Con esto podemos concluir que el algoritmo de Deutsch-Jodza ha funcionado para oráculos balanceados y constantes de 2 y tres bits y los resultados que hemos obtenido han sido los esperados."
   ]
  },
  {
   "cell_type": "code",
   "execution_count": null,
   "metadata": {},
   "outputs": [],
   "source": []
  }
 ],
 "metadata": {
  "kernelspec": {
   "display_name": "Python 3",
   "language": "python",
   "name": "python3"
  },
  "language_info": {
   "codemirror_mode": {
    "name": "ipython",
    "version": 3
   },
   "file_extension": ".py",
   "mimetype": "text/x-python",
   "name": "python",
   "nbconvert_exporter": "python",
   "pygments_lexer": "ipython3",
   "version": "3.8.5"
  }
 },
 "nbformat": 4,
 "nbformat_minor": 5
}
