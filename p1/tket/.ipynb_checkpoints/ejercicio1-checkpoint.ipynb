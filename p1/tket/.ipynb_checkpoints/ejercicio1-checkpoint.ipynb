{
 "cells": [
  {
   "cell_type": "code",
   "execution_count": 10,
   "metadata": {},
   "outputs": [
    {
     "name": "stdout",
     "output_type": "stream",
     "text": [
      "Counter({(1,): 523, (0,): 477})\n"
     ]
    }
   ],
   "source": [
    "from pytket import Circuit\n",
    "from pytket.backends.ibm import AerBackend\n",
    "\n",
    "c = Circuit(1,1)  # define a circuit with 2 qubits and 2 bits\n",
    "c.H(0)            # add a Hadamard gate to qubit 0\n",
    "c.measure_all()  # measure qubits 0 and 1, recording the results in bits 0 and 1\n",
    "\n",
    "b = AerBackend()                # connect to the backend\n",
    "b.compile_circuit(c)            # compile the circuit to satisfy the backend's requirements\n",
    "handle = b.process_circuit(c, 1000)  # submit the job to run the circuit 100 times\n",
    "counts = b.get_result(handle).get_counts()   # retrieve and summarise the results\n",
    "print(counts)\n"
   ]
  }
 ],
 "metadata": {
  "kernelspec": {
   "display_name": "Python 3",
   "language": "python",
   "name": "python3"
  },
  "language_info": {
   "codemirror_mode": {
    "name": "ipython",
    "version": 3
   },
   "file_extension": ".py",
   "mimetype": "text/x-python",
   "name": "python",
   "nbconvert_exporter": "python",
   "pygments_lexer": "ipython3",
   "version": "3.8.5"
  }
 },
 "nbformat": 4,
 "nbformat_minor": 4
}
