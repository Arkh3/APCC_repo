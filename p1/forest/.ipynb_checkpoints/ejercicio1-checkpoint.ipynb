{
 "cells": [
  {
   "cell_type": "code",
   "execution_count": 11,
   "metadata": {
    "scrolled": true
   },
   "outputs": [
    {
     "name": "stdout",
     "output_type": "stream",
     "text": [
      "H 0\n",
      "\n",
      "[0 0 1 1 0 1 0 0 0 0]\n"
     ]
    }
   ],
   "source": [
    "from pyquil import *\n",
    "from pyquil.gates import *\n",
    "\n",
    "program = Program(\n",
    "    H(0),\n",
    ")\n",
    "\n",
    "qc = get_qc('9q-square-qvm')\n",
    "result = qc.run_and_measure(program, trials=10)\n",
    "\n",
    "print(program)\n",
    "print(result[0])"
   ]
  },
  {
   "cell_type": "code",
   "execution_count": null,
   "metadata": {},
   "outputs": [],
   "source": []
  }
 ],
 "metadata": {
  "kernelspec": {
   "display_name": "Python 3",
   "language": "python",
   "name": "python3"
  },
  "language_info": {
   "codemirror_mode": {
    "name": "ipython",
    "version": 3
   },
   "file_extension": ".py",
   "mimetype": "text/x-python",
   "name": "python",
   "nbconvert_exporter": "python",
   "pygments_lexer": "ipython3",
   "version": "3.8.5"
  }
 },
 "nbformat": 4,
 "nbformat_minor": 4
}
