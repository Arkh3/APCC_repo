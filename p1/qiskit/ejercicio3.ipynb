{
 "cells": [
  {
   "cell_type": "code",
   "execution_count": 2,
   "id": "equivalent-ordering",
   "metadata": {},
   "outputs": [
    {
     "name": "stdout",
     "output_type": "stream",
     "text": [
      "\n",
      "Número de ocurrencias:  {'000': 517, '111': 483}\n"
     ]
    },
    {
     "data": {
      "text/html": [
       "<pre style=\"word-wrap: normal;white-space: pre;background: #fff0;line-height: 1.1;font-family: &quot;Courier New&quot;,Courier,monospace\">     ┌───┐          ┌─┐      \n",
       "q_0: ┤ H ├──■───────┤M├──────\n",
       "     └───┘┌─┴─┐     └╥┘┌─┐   \n",
       "q_1: ─────┤ X ├──■───╫─┤M├───\n",
       "          └───┘┌─┴─┐ ║ └╥┘┌─┐\n",
       "q_2: ──────────┤ X ├─╫──╫─┤M├\n",
       "               └───┘ ║  ║ └╥┘\n",
       "c: 3/════════════════╩══╩══╩═\n",
       "                     0  1  2 </pre>"
      ],
      "text/plain": [
       "     ┌───┐          ┌─┐      \n",
       "q_0: ┤ H ├──■───────┤M├──────\n",
       "     └───┘┌─┴─┐     └╥┘┌─┐   \n",
       "q_1: ─────┤ X ├──■───╫─┤M├───\n",
       "          └───┘┌─┴─┐ ║ └╥┘┌─┐\n",
       "q_2: ──────────┤ X ├─╫──╫─┤M├\n",
       "               └───┘ ║  ║ └╥┘\n",
       "c: 3/════════════════╩══╩══╩═\n",
       "                     0  1  2 "
      ]
     },
     "execution_count": 2,
     "metadata": {},
     "output_type": "execute_result"
    }
   ],
   "source": [
    "import numpy as np\n",
    "\n",
    "from qiskit import(\n",
    "  QuantumCircuit,\n",
    "  execute,\n",
    "  Aer)\n",
    "\n",
    "simulator = Aer.get_backend('qasm_simulator')\n",
    "\n",
    "circuit = QuantumCircuit(3, 3)\n",
    "\n",
    "circuit.h(0)\n",
    "\n",
    "circuit.cx(0, 1)\n",
    "\n",
    "circuit.cx(1, 2)\n",
    "\n",
    "circuit.measure([0,1,2], [0,1,2])\n",
    "\n",
    "job = execute(circuit, simulator, shots=1000)\n",
    "\n",
    "result = job.result()\n",
    "\n",
    "counts = result.get_counts(circuit)\n",
    "print(\"\\nNúmero de ocurrencias: \",counts)\n",
    "\n",
    "# Draw the circuit\n",
    "circuit.draw()"
   ]
  },
  {
   "cell_type": "code",
   "execution_count": null,
   "id": "tamil-starter",
   "metadata": {},
   "outputs": [],
   "source": []
  }
 ],
 "metadata": {
  "kernelspec": {
   "display_name": "Python 3",
   "language": "python",
   "name": "python3"
  },
  "language_info": {
   "codemirror_mode": {
    "name": "ipython",
    "version": 3
   },
   "file_extension": ".py",
   "mimetype": "text/x-python",
   "name": "python",
   "nbconvert_exporter": "python",
   "pygments_lexer": "ipython3",
   "version": "3.8.5"
  }
 },
 "nbformat": 4,
 "nbformat_minor": 5
}
