{
 "cells": [
  {
   "cell_type": "markdown",
   "id": "lucky-exhibit",
   "metadata": {},
   "source": [
    "# Estado GHC"
   ]
  },
  {
   "cell_type": "code",
   "execution_count": 4,
   "id": "equivalent-ordering",
   "metadata": {},
   "outputs": [
    {
     "name": "stdout",
     "output_type": "stream",
     "text": [
      "\n",
      "Número de ocurrencias:  {'000': 516, '111': 484}\n"
     ]
    },
    {
     "data": {
      "text/html": [
       "<pre style=\"word-wrap: normal;white-space: pre;background: #fff0;line-height: 1.1;font-family: &quot;Courier New&quot;,Courier,monospace\">     ┌───┐          ┌─┐      \n",
       "q_0: ┤ H ├──■───────┤M├──────\n",
       "     └───┘┌─┴─┐     └╥┘┌─┐   \n",
       "q_1: ─────┤ X ├──■───╫─┤M├───\n",
       "          └───┘┌─┴─┐ ║ └╥┘┌─┐\n",
       "q_2: ──────────┤ X ├─╫──╫─┤M├\n",
       "               └───┘ ║  ║ └╥┘\n",
       "c: 3/════════════════╩══╩══╩═\n",
       "                     0  1  2 </pre>"
      ],
      "text/plain": [
       "     ┌───┐          ┌─┐      \n",
       "q_0: ┤ H ├──■───────┤M├──────\n",
       "     └───┘┌─┴─┐     └╥┘┌─┐   \n",
       "q_1: ─────┤ X ├──■───╫─┤M├───\n",
       "          └───┘┌─┴─┐ ║ └╥┘┌─┐\n",
       "q_2: ──────────┤ X ├─╫──╫─┤M├\n",
       "               └───┘ ║  ║ └╥┘\n",
       "c: 3/════════════════╩══╩══╩═\n",
       "                     0  1  2 "
      ]
     },
     "execution_count": 4,
     "metadata": {},
     "output_type": "execute_result"
    }
   ],
   "source": [
    "import numpy as np\n",
    "\n",
    "from qiskit import(\n",
    "  QuantumCircuit,\n",
    "  execute,\n",
    "  Aer)\n",
    "\n",
    "simulator = Aer.get_backend('qasm_simulator')\n",
    "\n",
    "circuit = QuantumCircuit(3, 3)\n",
    "circuit.h(0)\n",
    "circuit.cx(0, 1)\n",
    "circuit.cx(1, 2)\n",
    "circuit.measure([0,1,2], [0,1,2])\n",
    "\n",
    "job = execute(circuit, simulator, shots=1000)\n",
    "result = job.result()\n",
    "\n",
    "counts = result.get_counts(circuit)\n",
    "print(\"\\nNúmero de ocurrencias: \",counts)\n",
    "\n",
    "# Draw the circuit\n",
    "circuit.draw()"
   ]
  },
  {
   "cell_type": "markdown",
   "id": "coordinated-polyester",
   "metadata": {},
   "source": [
    "# Ejecutado en un ordenador cuántico real "
   ]
  },
  {
   "cell_type": "code",
   "execution_count": 5,
   "id": "herbal-booking",
   "metadata": {},
   "outputs": [
    {
     "name": "stderr",
     "output_type": "stream",
     "text": [
      "configrc.store_credentials:WARNING:2021-03-04 13:47:58,836: Credentials already present. Set overwrite=True to overwrite.\n"
     ]
    }
   ],
   "source": [
    "import numpy as np\n",
    "from qiskit import IBMQ\n",
    "from qiskit.compiler import assemble, transpile\n",
    "IBMQ.save_account('f33574e4ee70dc79fa2cc13196842a585bd84475ea12349568c2c649874d3a9bec1c6b58c70de7d7406b83d41b26368d0fd6ec73671834b56911a6f0cbbb1c31')\n",
    "from qiskit import(\n",
    "  QuantumCircuit,\n",
    "  execute,\n",
    "  Aer)"
   ]
  },
  {
   "cell_type": "code",
   "execution_count": 10,
   "id": "tamil-starter",
   "metadata": {},
   "outputs": [
    {
     "name": "stdout",
     "output_type": "stream",
     "text": [
      "\n",
      "Número de ocurrencias:  {'000': 465, '001': 19, '010': 8, '011': 19, '100': 8, '101': 27, '110': 48, '111': 430}\n"
     ]
    }
   ],
   "source": [
    "circuit = QuantumCircuit(3, 3)\n",
    "circuit.h(0)\n",
    "circuit.cx(0, 1)\n",
    "circuit.cx(1, 2)\n",
    "circuit.measure([0,1,2], [0,1,2])\n",
    "\n",
    "provider = IBMQ.load_account()\n",
    "backend = provider.backends.ibmq_belem\n",
    "qobj = assemble(transpile(circuit, backend=backend), backend=backend)\n",
    "job = backend.run(qobj)\n",
    "retrieved_job = backend.retrieve_job(job.job_id())\n",
    "\n",
    "\n",
    "result = job.result()\n",
    "\n",
    "counts = result.get_counts(circuit)\n",
    "print(\"\\nNúmero de ocurrencias: \",counts)"
   ]
  },
  {
   "attachments": {
    "circuit-klvca9cu.png": {
     "image/png": "[encoded data removed]"
    }
   },
   "cell_type": "markdown",
   "id": "immune-jenny",
   "metadata": {},
   "source": [
    "![circuit-klvca9cu.png](attachment:circuit-klvca9cu.png)"
   ]
  },
  {
   "attachments": {
    "bar-chart.png": {
     "image/png": "[encoded data removed]"
    }
   },
   "cell_type": "markdown",
   "id": "quarterly-flour",
   "metadata": {},
   "source": [
    "![bar-chart.png](attachment:bar-chart.png)"
   ]
  },
  {
   "cell_type": "markdown",
   "id": "ideal-weekend",
   "metadata": {},
   "source": [
    "# Simulación con ruido"
   ]
  },
  {
   "cell_type": "code",
   "execution_count": 7,
   "id": "previous-wheel",
   "metadata": {},
   "outputs": [
    {
     "name": "stderr",
     "output_type": "stream",
     "text": [
      "ibmqfactory.load_account:WARNING:2021-03-04 13:48:41,014: Credentials are already in use. The existing account in the session will be replaced.\n"
     ]
    },
    {
     "name": "stdout",
     "output_type": "stream",
     "text": [
      "\n",
      "Número de ocurrencias:  {'000': 526, '001': 22, '010': 1, '011': 20, '100': 5, '101': 22, '110': 39, '111': 389}\n"
     ]
    }
   ],
   "source": [
    "from qiskit import QuantumCircuit, execute\n",
    "from qiskit import IBMQ, Aer\n",
    "from qiskit.visualization import plot_histogram\n",
    "from qiskit.providers.aer.noise import NoiseModel\n",
    "\n",
    "# Construir un modelo de ruido a partir de las características de unbackend real\n",
    "provider = IBMQ.load_account()\n",
    "backend = provider.get_backend('ibmq_belem')\n",
    "noise_model = NoiseModel.from_backend(backend)\n",
    "\n",
    "# Obtener el mapa de interconexión de los qubits\n",
    "coupling_map = backend.configuration().coupling_map\n",
    "\n",
    "# Obtener las características de las puertas básicas\n",
    "basis_gates = noise_model.basis_gates\n",
    "\n",
    "#construir circuito\n",
    "circuit = QuantumCircuit(3, 3)\n",
    "circuit.h(0)\n",
    "circuit.cx(0, 1)\n",
    "circuit.cx(1, 2)\n",
    "circuit.measure([0,1,2], [0,1,2])\n",
    "\n",
    "# Perform a noise simulation\n",
    "result = execute(circuit, Aer.get_backend('qasm_simulator')\n",
    "                 ,coupling_map=coupling_map,\n",
    "                 basis_gates=basis_gates,\n",
    "                 noise_model=noise_model).result()\n",
    "\n",
    "\n",
    "# mostrar resultados\n",
    "counts = result.get_counts(circuit)\n",
    "print(\"\\nNúmero de ocurrencias: \",counts)"
   ]
  },
  {
   "cell_type": "code",
   "execution_count": null,
   "id": "minute-filling",
   "metadata": {},
   "outputs": [],
   "source": []
  }
 ],
 "metadata": {
  "kernelspec": {
   "display_name": "Python 3",
   "language": "python",
   "name": "python3"
  },
  "language_info": {
   "codemirror_mode": {
    "name": "ipython",
    "version": 3
   },
   "file_extension": ".py",
   "mimetype": "text/x-python",
   "name": "python",
   "nbconvert_exporter": "python",
   "pygments_lexer": "ipython3",
   "version": "3.8.5"
  }
 },
 "nbformat": 4,
 "nbformat_minor": 5
}
