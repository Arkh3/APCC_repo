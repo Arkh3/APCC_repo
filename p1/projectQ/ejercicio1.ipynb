{
 "cells": [
  {
   "cell_type": "code",
   "execution_count": 4,
   "metadata": {
    "scrolled": true
   },
   "outputs": [
    {
     "name": "stdout",
     "output_type": "stream",
     "text": [
      "Numero de ceros: 484  Numero de unos: 516\n"
     ]
    }
   ],
   "source": [
    "from projectq.ops import H, Measure\n",
    "from projectq import MainEngine\n",
    "\n",
    "ceros = 0\n",
    "unos = 0\n",
    "\n",
    "for i in range (1000):\n",
    "    \n",
    "    # create a main compiler engine\n",
    "    eng = MainEngine()\n",
    "\n",
    "    # allocate one qubit\n",
    "    q1 = eng.allocate_qubit()\n",
    "\n",
    "    # apply a Hadamard gate (put it in superposition)\n",
    "    H | q1\n",
    "\n",
    "    # measure the cubit\n",
    "    Measure | q1\n",
    "\n",
    "    #flush all gates (and execute measurements)\n",
    "    eng.flush()\n",
    "\n",
    "    # print the result:\n",
    "\n",
    "    if int(q1) == 1:\n",
    "        unos += 1\n",
    "    else:\n",
    "        ceros += 1\n",
    "\n",
    "        \n",
    "print(\"Numero de ceros:\", ceros, \" Numero de unos:\", unos)"
   ]
  },
  {
   "cell_type": "code",
   "execution_count": null,
   "metadata": {},
   "outputs": [],
   "source": []
  }
 ],
 "metadata": {
  "kernelspec": {
   "display_name": "Python 3",
   "language": "python",
   "name": "python3"
  },
  "language_info": {
   "codemirror_mode": {
    "name": "ipython",
    "version": 3
   },
   "file_extension": ".py",
   "mimetype": "text/x-python",
   "name": "python",
   "nbconvert_exporter": "python",
   "pygments_lexer": "ipython3",
   "version": "3.8.5"
  }
 },
 "nbformat": 4,
 "nbformat_minor": 4
}
