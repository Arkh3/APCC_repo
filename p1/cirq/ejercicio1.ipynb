{
 "cells": [
  {
   "cell_type": "code",
   "execution_count": 1,
   "id": "completed-routine",
   "metadata": {},
   "outputs": [
    {
     "name": "stdout",
     "output_type": "stream",
     "text": [
      "Circuit:\n",
      "a: ───H───M───\n",
      "Results:\n",
      "Counter({0: 506, 1: 494})\n"
     ]
    }
   ],
   "source": [
    "  import cirq\n",
    "\n",
    "  # Pick a qubit.\n",
    "  qubit = cirq.NamedQubit('a')\n",
    "\n",
    "  # Create a circuit\n",
    "  circuit = cirq.Circuit(\n",
    "      cirq.H(qubit),  #Hadamard aplicada al cubit\n",
    "      cirq.measure(qubit)  # Measurement.\n",
    "  )\n",
    "    \n",
    "  print(\"Circuit:\")\n",
    "  print(circuit)\n",
    "\n",
    "  # Simulate the circuit several times.\n",
    "  simulator = cirq.Simulator()\n",
    "  result = simulator.run(circuit, repetitions=1000)\n",
    "  print(\"Results:\")\n",
    "  print(result.histogram(key='a'))\n"
   ]
  },
  {
   "cell_type": "code",
   "execution_count": null,
   "id": "employed-active",
   "metadata": {},
   "outputs": [],
   "source": []
  }
 ],
 "metadata": {
  "kernelspec": {
   "display_name": "Python 3",
   "language": "python",
   "name": "python3"
  },
  "language_info": {
   "codemirror_mode": {
    "name": "ipython",
    "version": 3
   },
   "file_extension": ".py",
   "mimetype": "text/x-python",
   "name": "python",
   "nbconvert_exporter": "python",
   "pygments_lexer": "ipython3",
   "version": "3.8.5"
  }
 },
 "nbformat": 4,
 "nbformat_minor": 5
}
